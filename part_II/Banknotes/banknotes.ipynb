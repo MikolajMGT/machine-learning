{
 "cells": [
  {
   "cell_type": "markdown",
   "metadata": {},
   "source": [
    "# Counterfeit detection"
   ]
  },
  {
   "cell_type": "markdown",
   "metadata": {},
   "source": [
    "The task in this assignment is to detect the  counterfeit banknotes. The data set is based on [banknote authentication Data Set ](https://archive.ics.uci.edu/ml/datasets/banknote+authentication#) from UCI Machine Learning repository. The first three columns denote different parameters obtained from the photographs of the banknotes and last colum provides the label. Frankly as the dataset does not have any description I don't know  which labels corresponds to real and which to counterfeited banknotes. let's assume that label one (positive) denotes the clounterfeits. The set  \"banknote_authentication.csv\" can be found in the data  directory."
   ]
  },
  {
   "cell_type": "code",
   "execution_count": 1,
   "metadata": {},
   "outputs": [],
   "source": [
    "import pandas as pd\n",
    "import numpy as np\n",
    "import matplotlib.pyplot as plt\n",
    "import scipy.stats as st\n",
    "import scrapbook as sb"
   ]
  },
  {
   "cell_type": "code",
   "execution_count": 2,
   "metadata": {},
   "outputs": [
    {
     "data": {
      "application/scrapbook.scrap.json+json": {
       "data": [
        "Mariusz",
        "Kluza"
       ],
       "encoder": "json",
       "name": "person1",
       "version": 1
      }
     },
     "metadata": {
      "scrapbook": {
       "data": true,
       "display": false,
       "name": "person1"
      }
     },
     "output_type": "display_data"
    },
    {
     "data": {
      "text/plain": [
       "['Mariusz', 'Kluza']"
      ]
     },
     "metadata": {
      "scrapbook": {
       "data": false,
       "display": true,
       "name": "person1"
      }
     },
     "output_type": "display_data"
    },
    {
     "data": {
      "application/scrapbook.scrap.json+json": {
       "data": [
        "Mikołaj",
        "Migut"
       ],
       "encoder": "json",
       "name": "person2",
       "version": 1
      }
     },
     "metadata": {
      "scrapbook": {
       "data": true,
       "display": false,
       "name": "person2"
      }
     },
     "output_type": "display_data"
    },
    {
     "data": {
      "text/plain": [
       "['Mikołaj', 'Migut']"
      ]
     },
     "metadata": {
      "scrapbook": {
       "data": false,
       "display": true,
       "name": "person2"
      }
     },
     "output_type": "display_data"
    }
   ],
   "source": [
    "sb.glue('person1',['Mariusz', 'Kluza'], display=True)\n",
    "sb.glue('person2',['Mikołaj', 'Migut'], display=True)"
   ]
  },
  {
   "cell_type": "code",
   "execution_count": 3,
   "metadata": {},
   "outputs": [],
   "source": [
    "data = pd.read_csv('data/banknote_authentication.csv')"
   ]
  },
  {
   "cell_type": "code",
   "execution_count": 4,
   "metadata": {},
   "outputs": [
    {
     "data": {
      "text/html": [
       "<div>\n",
       "<style scoped>\n",
       "    .dataframe tbody tr th:only-of-type {\n",
       "        vertical-align: middle;\n",
       "    }\n",
       "\n",
       "    .dataframe tbody tr th {\n",
       "        vertical-align: top;\n",
       "    }\n",
       "\n",
       "    .dataframe thead th {\n",
       "        text-align: right;\n",
       "    }\n",
       "</style>\n",
       "<table border=\"1\" class=\"dataframe\">\n",
       "  <thead>\n",
       "    <tr style=\"text-align: right;\">\n",
       "      <th></th>\n",
       "      <th>a1</th>\n",
       "      <th>a2</th>\n",
       "      <th>a3</th>\n",
       "      <th>counterfeit</th>\n",
       "    </tr>\n",
       "  </thead>\n",
       "  <tbody>\n",
       "    <tr>\n",
       "      <th>0</th>\n",
       "      <td>12.3784</td>\n",
       "      <td>0.70403</td>\n",
       "      <td>-7.58360</td>\n",
       "      <td>0</td>\n",
       "    </tr>\n",
       "    <tr>\n",
       "      <th>1</th>\n",
       "      <td>8.1881</td>\n",
       "      <td>-3.13380</td>\n",
       "      <td>-2.52760</td>\n",
       "      <td>0</td>\n",
       "    </tr>\n",
       "    <tr>\n",
       "      <th>2</th>\n",
       "      <td>-10.8679</td>\n",
       "      <td>9.49260</td>\n",
       "      <td>-1.41160</td>\n",
       "      <td>1</td>\n",
       "    </tr>\n",
       "    <tr>\n",
       "      <th>3</th>\n",
       "      <td>-8.7903</td>\n",
       "      <td>7.97350</td>\n",
       "      <td>-0.45475</td>\n",
       "      <td>1</td>\n",
       "    </tr>\n",
       "    <tr>\n",
       "      <th>4</th>\n",
       "      <td>-5.5167</td>\n",
       "      <td>10.93900</td>\n",
       "      <td>-0.40820</td>\n",
       "      <td>1</td>\n",
       "    </tr>\n",
       "  </tbody>\n",
       "</table>\n",
       "</div>"
      ],
      "text/plain": [
       "        a1        a2       a3  counterfeit\n",
       "0  12.3784   0.70403 -7.58360            0\n",
       "1   8.1881  -3.13380 -2.52760            0\n",
       "2 -10.8679   9.49260 -1.41160            1\n",
       "3  -8.7903   7.97350 -0.45475            1\n",
       "4  -5.5167  10.93900 -0.40820            1"
      ]
     },
     "execution_count": 4,
     "metadata": {},
     "output_type": "execute_result"
    }
   ],
   "source": [
    "data.head()"
   ]
  },
  {
   "cell_type": "code",
   "execution_count": 5,
   "metadata": {},
   "outputs": [
    {
     "data": {
      "text/html": [
       "<div>\n",
       "<style scoped>\n",
       "    .dataframe tbody tr th:only-of-type {\n",
       "        vertical-align: middle;\n",
       "    }\n",
       "\n",
       "    .dataframe tbody tr th {\n",
       "        vertical-align: top;\n",
       "    }\n",
       "\n",
       "    .dataframe thead th {\n",
       "        text-align: right;\n",
       "    }\n",
       "</style>\n",
       "<table border=\"1\" class=\"dataframe\">\n",
       "  <thead>\n",
       "    <tr style=\"text-align: right;\">\n",
       "      <th></th>\n",
       "      <th>a1</th>\n",
       "      <th>a2</th>\n",
       "      <th>a3</th>\n",
       "      <th>counterfeit</th>\n",
       "    </tr>\n",
       "  </thead>\n",
       "  <tbody>\n",
       "    <tr>\n",
       "      <th>count</th>\n",
       "      <td>1097.000000</td>\n",
       "      <td>1097.000000</td>\n",
       "      <td>1097.000000</td>\n",
       "      <td>1097.000000</td>\n",
       "    </tr>\n",
       "    <tr>\n",
       "      <th>mean</th>\n",
       "      <td>1.805698</td>\n",
       "      <td>1.488454</td>\n",
       "      <td>-1.177636</td>\n",
       "      <td>0.444850</td>\n",
       "    </tr>\n",
       "    <tr>\n",
       "      <th>std</th>\n",
       "      <td>5.936574</td>\n",
       "      <td>4.403893</td>\n",
       "      <td>2.073943</td>\n",
       "      <td>0.497176</td>\n",
       "    </tr>\n",
       "    <tr>\n",
       "      <th>min</th>\n",
       "      <td>-13.773100</td>\n",
       "      <td>-5.286100</td>\n",
       "      <td>-7.871900</td>\n",
       "      <td>0.000000</td>\n",
       "    </tr>\n",
       "    <tr>\n",
       "      <th>25%</th>\n",
       "      <td>-2.090000</td>\n",
       "      <td>-1.628300</td>\n",
       "      <td>-2.342700</td>\n",
       "      <td>0.000000</td>\n",
       "    </tr>\n",
       "    <tr>\n",
       "      <th>50%</th>\n",
       "      <td>2.290700</td>\n",
       "      <td>0.614060</td>\n",
       "      <td>-0.591820</td>\n",
       "      <td>0.000000</td>\n",
       "    </tr>\n",
       "    <tr>\n",
       "      <th>75%</th>\n",
       "      <td>6.756200</td>\n",
       "      <td>3.395400</td>\n",
       "      <td>0.399980</td>\n",
       "      <td>1.000000</td>\n",
       "    </tr>\n",
       "    <tr>\n",
       "      <th>max</th>\n",
       "      <td>12.730200</td>\n",
       "      <td>17.927400</td>\n",
       "      <td>2.449500</td>\n",
       "      <td>1.000000</td>\n",
       "    </tr>\n",
       "  </tbody>\n",
       "</table>\n",
       "</div>"
      ],
      "text/plain": [
       "                a1           a2           a3  counterfeit\n",
       "count  1097.000000  1097.000000  1097.000000  1097.000000\n",
       "mean      1.805698     1.488454    -1.177636     0.444850\n",
       "std       5.936574     4.403893     2.073943     0.497176\n",
       "min     -13.773100    -5.286100    -7.871900     0.000000\n",
       "25%      -2.090000    -1.628300    -2.342700     0.000000\n",
       "50%       2.290700     0.614060    -0.591820     0.000000\n",
       "75%       6.756200     3.395400     0.399980     1.000000\n",
       "max      12.730200    17.927400     2.449500     1.000000"
      ]
     },
     "execution_count": 5,
     "metadata": {},
     "output_type": "execute_result"
    }
   ],
   "source": [
    "data.describe()"
   ]
  },
  {
   "cell_type": "code",
   "execution_count": 6,
   "metadata": {},
   "outputs": [
    {
     "name": "stdout",
     "output_type": "stream",
     "text": [
      "<class 'pandas.core.frame.DataFrame'>\n",
      "RangeIndex: 1097 entries, 0 to 1096\n",
      "Data columns (total 4 columns):\n",
      " #   Column       Non-Null Count  Dtype  \n",
      "---  ------       --------------  -----  \n",
      " 0   a1           1097 non-null   float64\n",
      " 1   a2           1097 non-null   float64\n",
      " 2   a3           1097 non-null   float64\n",
      " 3   counterfeit  1097 non-null   int64  \n",
      "dtypes: float64(3), int64(1)\n",
      "memory usage: 34.4 KB\n"
     ]
    }
   ],
   "source": [
    "data.info()"
   ]
  },
  {
   "cell_type": "markdown",
   "metadata": {},
   "source": [
    "## Problem "
   ]
  },
  {
   "cell_type": "markdown",
   "metadata": {},
   "source": [
    "### A."
   ]
  },
  {
   "cell_type": "markdown",
   "metadata": {},
   "source": [
    "Perform the Quadratic Discriminant Analysis on this set. Calculate the confusion matrix, AUC score and plot the ROC curve. Please use `scrapbook` to store your results. "
   ]
  },
  {
   "cell_type": "markdown",
   "metadata": {},
   "source": [
    "also please save the ROC plot"
   ]
  },
  {
   "cell_type": "code",
   "execution_count": 7,
   "metadata": {},
   "outputs": [],
   "source": [
    "from sklearn.model_selection import train_test_split\n",
    "seed = 2137\n",
    "data_train, data_test = train_test_split(data, test_size=0.2, stratify=data['counterfeit'], random_state=seed)"
   ]
  },
  {
   "cell_type": "code",
   "execution_count": 8,
   "metadata": {},
   "outputs": [
    {
     "data": {
      "text/plain": [
       "QuadraticDiscriminantAnalysis()"
      ]
     },
     "execution_count": 8,
     "metadata": {},
     "output_type": "execute_result"
    }
   ],
   "source": [
    "from sklearn.discriminant_analysis import QuadraticDiscriminantAnalysis\n",
    "qda = QuadraticDiscriminantAnalysis()\n",
    "\n",
    "qda.fit(data_train.loc[:,'a1' : 'a3'], data_train['counterfeit']) "
   ]
  },
  {
   "cell_type": "code",
   "execution_count": 9,
   "metadata": {},
   "outputs": [
    {
     "data": {
      "application/scrapbook.scrap.json+json": {
       "data": [
        0.8360655737704918,
        0.16393442622950818,
        0.23469387755102042,
        0.7653061224489796,
        0.7894736842105263,
        0.7772020725388602,
        0.8670960187353629
       ],
       "encoder": "json",
       "name": "B_scores",
       "version": 1
      }
     },
     "metadata": {
      "scrapbook": {
       "data": true,
       "display": false,
       "name": "B_scores"
      }
     },
     "output_type": "display_data"
    },
    {
     "data": {
      "text/plain": [
       "[0.8360655737704918,\n",
       " 0.16393442622950818,\n",
       " 0.23469387755102042,\n",
       " 0.7653061224489796,\n",
       " 0.7894736842105263,\n",
       " 0.7772020725388602,\n",
       " 0.8670960187353629]"
      ]
     },
     "metadata": {
      "scrapbook": {
       "data": false,
       "display": true,
       "name": "B_scores"
      }
     },
     "output_type": "display_data"
    }
   ],
   "source": [
    "from sklearn.metrics import roc_curve, roc_auc_score, confusion_matrix, f1_score, precision_score\n",
    "\n",
    "test_proba = qda.predict_proba(data_test.loc[:,'a1':'a3'])[:,1]\n",
    "fprs, tprs, thds = roc_curve(data_test['counterfeit'], test_proba)\n",
    "auc = roc_auc_score(data_test['counterfeit'], test_proba)\n",
    "tnr, fpr, fnr, tpr = confusion_matrix(data_test['counterfeit'], test_proba>0.5, normalize='true').ravel()\n",
    "f1_score_ = f1_score(data_test['counterfeit'], test_proba>0.5)\n",
    "precision = precision_score(data_test['counterfeit'], test_proba>0.5)\n",
    "sb.glue('B_scores',[tnr, fpr, fnr, tpr, precision, f1_score_, auc], display=True)"
   ]
  },
  {
   "cell_type": "code",
   "execution_count": 10,
   "metadata": {},
   "outputs": [
    {
     "data": {
      "image/png": "[encoded data removed]",
      "text/plain": [
       "<Figure size 576x576 with 1 Axes>"
      ]
     },
     "metadata": {
      "needs_background": "light"
     },
     "output_type": "display_data"
    }
   ],
   "source": [
    "from mchlearn.plotting import roc_plot, add_roc_curve\n",
    "\n",
    "fig, ax = roc_plot()\n",
    "add_roc_curve(data_test['counterfeit'], test_proba, name='qda', ax=ax)\n",
    "ax.legend()\n",
    "sb.glue('A_ROC',fig, \"display\", display=False)"
   ]
  },
  {
   "cell_type": "markdown",
   "metadata": {},
   "source": [
    "### B."
   ]
  },
  {
   "cell_type": "markdown",
   "metadata": {},
   "source": [
    "Perform Gaussian Mixture Discriminant Analysis on this set as described in the `gaussian_mixture_model_EM_algorithm` notebook. Use two components for positives and two components for negatives. Calculate the confusion matrix, AUC score and plot the ROC curve. "
   ]
  },
  {
   "cell_type": "markdown",
   "metadata": {},
   "source": [
    "also please save the ROC plot"
   ]
  },
  {
   "cell_type": "code",
   "execution_count": 11,
   "metadata": {},
   "outputs": [],
   "source": [
    "from sklearn.mixture import GaussianMixture\n",
    "\n",
    "real_train = data_train[data_train['counterfeit']==0]\n",
    "counterfeit_train = data_train[data_train['counterfeit']==1]"
   ]
  },
  {
   "cell_type": "code",
   "execution_count": 12,
   "metadata": {},
   "outputs": [],
   "source": [
    "def make_pdf(cmp):\n",
    "    n_cmp = cmp.n_components\n",
    "    dists = [st.multivariate_normal(cmp.means_[i], cmp.covariances_[i]) for i in range(n_cmp)]\n",
    "    def pdf(x):\n",
    "        p = 0.0\n",
    "        for i in range(n_cmp):\n",
    "            p+= cmp.weights_[i]*dists[i].pdf(x)\n",
    "        return p\n",
    "    return pdf"
   ]
  },
  {
   "cell_type": "code",
   "execution_count": 13,
   "metadata": {},
   "outputs": [],
   "source": [
    "def make_predict_proba(cmp0, cmp1, pi1=0.5):\n",
    "    pi0 = 1 - pi1\n",
    "    pdf0 = make_pdf(cmp0)\n",
    "    pdf1 = make_pdf(cmp1)\n",
    "    \n",
    "    def p(x):\n",
    "        p0 = pi0*pdf0(x)\n",
    "        p1 = pi1*pdf1(x)\n",
    "        return p1/(p1+p0)\n",
    "    return p"
   ]
  },
  {
   "cell_type": "code",
   "execution_count": 14,
   "metadata": {},
   "outputs": [],
   "source": [
    "gm0 = GaussianMixture(n_components=2)\n",
    "gm1 = GaussianMixture(n_components=2)"
   ]
  },
  {
   "cell_type": "code",
   "execution_count": 15,
   "metadata": {},
   "outputs": [
    {
     "data": {
      "text/plain": [
       "GaussianMixture(n_components=2)"
      ]
     },
     "execution_count": 15,
     "metadata": {},
     "output_type": "execute_result"
    }
   ],
   "source": [
    "gm0.fit(real_train.loc[:,'a1':'a3'])\n",
    "gm1.fit(counterfeit_train.loc[:,'a1':'a3'])"
   ]
  },
  {
   "cell_type": "code",
   "execution_count": 16,
   "metadata": {},
   "outputs": [
    {
     "data": {
      "application/scrapbook.scrap.json+json": {
       "data": [
        0.9672131147540983,
        0.03278688524590164,
        0.12244897959183673,
        0.8775510204081632,
        0.9555555555555556,
        0.9148936170212767,
        0.9667112746738039
       ],
       "encoder": "json",
       "name": "B_scores",
       "version": 1
      }
     },
     "metadata": {
      "scrapbook": {
       "data": true,
       "display": false,
       "name": "B_scores"
      }
     },
     "output_type": "display_data"
    },
    {
     "data": {
      "text/plain": [
       "[0.9672131147540983,\n",
       " 0.03278688524590164,\n",
       " 0.12244897959183673,\n",
       " 0.8775510204081632,\n",
       " 0.9555555555555556,\n",
       " 0.9148936170212767,\n",
       " 0.9667112746738039]"
      ]
     },
     "metadata": {
      "scrapbook": {
       "data": false,
       "display": true,
       "name": "B_scores"
      }
     },
     "output_type": "display_data"
    }
   ],
   "source": [
    "mgda = make_predict_proba(gm0, gm1, pi1=0.44)\n",
    "\n",
    "mgda_test_proba = mgda(data_test.loc[:,'a1':'a3'])\n",
    "mgda_fprs, mgda_tprs, mgda_thds = roc_curve(data_test['counterfeit'], mgda_test_proba)\n",
    "mgda_auc = roc_auc_score(data_test['counterfeit'], mgda_test_proba)\n",
    "mgda_tnr, mgda_fpr, mgda_fnr, mgda_tpr = confusion_matrix(data_test['counterfeit'], mgda_test_proba>0.5, normalize='true').ravel()\n",
    "mgda_f1_score = f1_score(data_test['counterfeit'], mgda_test_proba>0.5)\n",
    "mgda_precision = precision_score(data_test['counterfeit'], mgda_test_proba>0.5)\n",
    "sb.glue('B_scores',[mgda_tnr, mgda_fpr, mgda_fnr, mgda_tpr, mgda_precision, mgda_f1_score, mgda_auc], display=True)"
   ]
  },
  {
   "cell_type": "code",
   "execution_count": 17,
   "metadata": {},
   "outputs": [
    {
     "data": {
      "image/png": "[encoded data removed]",
      "text/plain": [
       "<Figure size 576x576 with 1 Axes>"
      ]
     },
     "metadata": {
      "needs_background": "light"
     },
     "output_type": "display_data"
    }
   ],
   "source": [
    "fig, ax = roc_plot()\n",
    "add_roc_curve(data_test['counterfeit'], test_proba, name='qda', ax=ax)\n",
    "add_roc_curve(data_test['counterfeit'], mgda_test_proba, name='mgda', ax=ax)\n",
    "ax.legend()\n",
    "sb.glue('B_ROC',fig, \"display\", display=False)"
   ]
  },
  {
   "cell_type": "markdown",
   "metadata": {},
   "source": [
    "### C."
   ]
  },
  {
   "cell_type": "markdown",
   "metadata": {},
   "source": [
    "Use k-fold cross validation to find the optimal number of gaussian components for each class. As before calculate the confusion matrix, AUC score and plot the ROC curve for the best classifier. "
   ]
  },
  {
   "cell_type": "markdown",
   "metadata": {},
   "source": [
    "__Hint__ use the `StratifiedKFold` function from scikit-learn library to generate folds. "
   ]
  },
  {
   "cell_type": "markdown",
   "metadata": {},
   "source": [
    "Store the results for the best estimator"
   ]
  },
  {
   "cell_type": "markdown",
   "metadata": {},
   "source": [
    "also please save the ROC plot"
   ]
  },
  {
   "cell_type": "code",
   "execution_count": 18,
   "metadata": {},
   "outputs": [],
   "source": [
    "def run(n_cmp0, n_cmp1, train, test, pi):\n",
    "    gm0 = GaussianMixture(n_components=n_cmp0)\n",
    "    gm1 = GaussianMixture(n_components=n_cmp1)\n",
    "    gm0.fit(train[train[:,-1]==0][:,:-1])\n",
    "    gm1.fit(train[train[:,-1]==1][:,:-1])\n",
    "    mga = make_predict_proba(gm0, gm1, pi1=pi)\n",
    "    proba_test = mga(test[:,:-1])\n",
    "    return f1_score(test[:,-1], proba_test>0.5)"
   ]
  },
  {
   "cell_type": "code",
   "execution_count": 19,
   "metadata": {},
   "outputs": [],
   "source": [
    "from sklearn.model_selection import StratifiedKFold\n",
    "\n",
    "skf = StratifiedKFold(n_splits=5, shuffle=True)\n",
    "n_range = (3, 40)\n",
    "nl = n_range[1]-n_range[0]\n",
    "mat = np.zeros( (nl, nl))\n",
    "\n",
    "for n0 in range(*n_range):\n",
    "    for n1 in range(*n_range):\n",
    "        f1 = 0.0\n",
    "        for train_index, test_index in skf.split(data_train.loc[:, 'a1':'a3'], data_train['counterfeit']):\n",
    "            f1 += run(n0, n1, data_train.values[train_index][:,1:], data_train.values[test_index][:,1:], 0.44)\n",
    "        mat[n0-n_range[0], n1-n_range[0]]=f1/5\n",
    "        "
   ]
  },
  {
   "cell_type": "code",
   "execution_count": 20,
   "metadata": {},
   "outputs": [
    {
     "data": {
      "text/html": [
       "<div>\n",
       "<style scoped>\n",
       "    .dataframe tbody tr th:only-of-type {\n",
       "        vertical-align: middle;\n",
       "    }\n",
       "\n",
       "    .dataframe tbody tr th {\n",
       "        vertical-align: top;\n",
       "    }\n",
       "\n",
       "    .dataframe thead th {\n",
       "        text-align: right;\n",
       "    }\n",
       "</style>\n",
       "<table border=\"1\" class=\"dataframe\">\n",
       "  <thead>\n",
       "    <tr style=\"text-align: right;\">\n",
       "      <th></th>\n",
       "      <th>3</th>\n",
       "      <th>4</th>\n",
       "      <th>5</th>\n",
       "      <th>6</th>\n",
       "      <th>7</th>\n",
       "      <th>8</th>\n",
       "      <th>9</th>\n",
       "      <th>10</th>\n",
       "      <th>11</th>\n",
       "      <th>12</th>\n",
       "      <th>...</th>\n",
       "      <th>30</th>\n",
       "      <th>31</th>\n",
       "      <th>32</th>\n",
       "      <th>33</th>\n",
       "      <th>34</th>\n",
       "      <th>35</th>\n",
       "      <th>36</th>\n",
       "      <th>37</th>\n",
       "      <th>38</th>\n",
       "      <th>39</th>\n",
       "    </tr>\n",
       "  </thead>\n",
       "  <tbody>\n",
       "    <tr>\n",
       "      <th>3</th>\n",
       "      <td>0.440846</td>\n",
       "      <td>0.470903</td>\n",
       "      <td>0.458166</td>\n",
       "      <td>0.502610</td>\n",
       "      <td>0.553107</td>\n",
       "      <td>0.557666</td>\n",
       "      <td>0.571768</td>\n",
       "      <td>0.552508</td>\n",
       "      <td>0.570517</td>\n",
       "      <td>0.576014</td>\n",
       "      <td>...</td>\n",
       "      <td>0.566717</td>\n",
       "      <td>0.580202</td>\n",
       "      <td>0.556341</td>\n",
       "      <td>0.551711</td>\n",
       "      <td>0.558201</td>\n",
       "      <td>0.567859</td>\n",
       "      <td>0.579607</td>\n",
       "      <td>0.579720</td>\n",
       "      <td>0.581158</td>\n",
       "      <td>0.576771</td>\n",
       "    </tr>\n",
       "    <tr>\n",
       "      <th>4</th>\n",
       "      <td>0.500143</td>\n",
       "      <td>0.544745</td>\n",
       "      <td>0.558901</td>\n",
       "      <td>0.555440</td>\n",
       "      <td>0.583789</td>\n",
       "      <td>0.578369</td>\n",
       "      <td>0.582607</td>\n",
       "      <td>0.607193</td>\n",
       "      <td>0.602407</td>\n",
       "      <td>0.610175</td>\n",
       "      <td>...</td>\n",
       "      <td>0.599851</td>\n",
       "      <td>0.585430</td>\n",
       "      <td>0.594905</td>\n",
       "      <td>0.591029</td>\n",
       "      <td>0.616352</td>\n",
       "      <td>0.589741</td>\n",
       "      <td>0.598256</td>\n",
       "      <td>0.600492</td>\n",
       "      <td>0.598814</td>\n",
       "      <td>0.590135</td>\n",
       "    </tr>\n",
       "    <tr>\n",
       "      <th>5</th>\n",
       "      <td>0.549688</td>\n",
       "      <td>0.523104</td>\n",
       "      <td>0.570680</td>\n",
       "      <td>0.601499</td>\n",
       "      <td>0.565879</td>\n",
       "      <td>0.617478</td>\n",
       "      <td>0.611266</td>\n",
       "      <td>0.598925</td>\n",
       "      <td>0.630885</td>\n",
       "      <td>0.601480</td>\n",
       "      <td>...</td>\n",
       "      <td>0.615223</td>\n",
       "      <td>0.634241</td>\n",
       "      <td>0.585369</td>\n",
       "      <td>0.575000</td>\n",
       "      <td>0.620266</td>\n",
       "      <td>0.603070</td>\n",
       "      <td>0.627997</td>\n",
       "      <td>0.601249</td>\n",
       "      <td>0.593915</td>\n",
       "      <td>0.589002</td>\n",
       "    </tr>\n",
       "    <tr>\n",
       "      <th>6</th>\n",
       "      <td>0.559077</td>\n",
       "      <td>0.570781</td>\n",
       "      <td>0.580491</td>\n",
       "      <td>0.581754</td>\n",
       "      <td>0.597290</td>\n",
       "      <td>0.587514</td>\n",
       "      <td>0.578769</td>\n",
       "      <td>0.623235</td>\n",
       "      <td>0.621124</td>\n",
       "      <td>0.613893</td>\n",
       "      <td>...</td>\n",
       "      <td>0.625510</td>\n",
       "      <td>0.609897</td>\n",
       "      <td>0.613382</td>\n",
       "      <td>0.611875</td>\n",
       "      <td>0.611378</td>\n",
       "      <td>0.619744</td>\n",
       "      <td>0.621517</td>\n",
       "      <td>0.593259</td>\n",
       "      <td>0.593494</td>\n",
       "      <td>0.574636</td>\n",
       "    </tr>\n",
       "    <tr>\n",
       "      <th>7</th>\n",
       "      <td>0.578420</td>\n",
       "      <td>0.565852</td>\n",
       "      <td>0.596788</td>\n",
       "      <td>0.591148</td>\n",
       "      <td>0.594041</td>\n",
       "      <td>0.614539</td>\n",
       "      <td>0.602670</td>\n",
       "      <td>0.617364</td>\n",
       "      <td>0.614846</td>\n",
       "      <td>0.624501</td>\n",
       "      <td>...</td>\n",
       "      <td>0.609911</td>\n",
       "      <td>0.636985</td>\n",
       "      <td>0.611991</td>\n",
       "      <td>0.596142</td>\n",
       "      <td>0.629376</td>\n",
       "      <td>0.629604</td>\n",
       "      <td>0.608985</td>\n",
       "      <td>0.613676</td>\n",
       "      <td>0.646223</td>\n",
       "      <td>0.587493</td>\n",
       "    </tr>\n",
       "    <tr>\n",
       "      <th>8</th>\n",
       "      <td>0.572872</td>\n",
       "      <td>0.569484</td>\n",
       "      <td>0.597808</td>\n",
       "      <td>0.623523</td>\n",
       "      <td>0.592080</td>\n",
       "      <td>0.597882</td>\n",
       "      <td>0.623457</td>\n",
       "      <td>0.610953</td>\n",
       "      <td>0.637452</td>\n",
       "      <td>0.605844</td>\n",
       "      <td>...</td>\n",
       "      <td>0.614480</td>\n",
       "      <td>0.605060</td>\n",
       "      <td>0.623050</td>\n",
       "      <td>0.611308</td>\n",
       "      <td>0.592840</td>\n",
       "      <td>0.631949</td>\n",
       "      <td>0.614994</td>\n",
       "      <td>0.614224</td>\n",
       "      <td>0.609711</td>\n",
       "      <td>0.592275</td>\n",
       "    </tr>\n",
       "    <tr>\n",
       "      <th>9</th>\n",
       "      <td>0.588993</td>\n",
       "      <td>0.591692</td>\n",
       "      <td>0.615027</td>\n",
       "      <td>0.582816</td>\n",
       "      <td>0.630905</td>\n",
       "      <td>0.592699</td>\n",
       "      <td>0.625002</td>\n",
       "      <td>0.622307</td>\n",
       "      <td>0.601338</td>\n",
       "      <td>0.625221</td>\n",
       "      <td>...</td>\n",
       "      <td>0.613836</td>\n",
       "      <td>0.645865</td>\n",
       "      <td>0.621138</td>\n",
       "      <td>0.625851</td>\n",
       "      <td>0.627871</td>\n",
       "      <td>0.620283</td>\n",
       "      <td>0.628443</td>\n",
       "      <td>0.600441</td>\n",
       "      <td>0.607498</td>\n",
       "      <td>0.584898</td>\n",
       "    </tr>\n",
       "    <tr>\n",
       "      <th>10</th>\n",
       "      <td>0.591833</td>\n",
       "      <td>0.605205</td>\n",
       "      <td>0.618259</td>\n",
       "      <td>0.610675</td>\n",
       "      <td>0.606550</td>\n",
       "      <td>0.629216</td>\n",
       "      <td>0.617675</td>\n",
       "      <td>0.597738</td>\n",
       "      <td>0.632303</td>\n",
       "      <td>0.633132</td>\n",
       "      <td>...</td>\n",
       "      <td>0.637031</td>\n",
       "      <td>0.617051</td>\n",
       "      <td>0.648575</td>\n",
       "      <td>0.618879</td>\n",
       "      <td>0.619619</td>\n",
       "      <td>0.613541</td>\n",
       "      <td>0.631028</td>\n",
       "      <td>0.620852</td>\n",
       "      <td>0.618545</td>\n",
       "      <td>0.618700</td>\n",
       "    </tr>\n",
       "    <tr>\n",
       "      <th>11</th>\n",
       "      <td>0.590700</td>\n",
       "      <td>0.605399</td>\n",
       "      <td>0.598326</td>\n",
       "      <td>0.581843</td>\n",
       "      <td>0.613780</td>\n",
       "      <td>0.595665</td>\n",
       "      <td>0.617978</td>\n",
       "      <td>0.620106</td>\n",
       "      <td>0.620145</td>\n",
       "      <td>0.627149</td>\n",
       "      <td>...</td>\n",
       "      <td>0.605294</td>\n",
       "      <td>0.637282</td>\n",
       "      <td>0.626399</td>\n",
       "      <td>0.608173</td>\n",
       "      <td>0.621211</td>\n",
       "      <td>0.638514</td>\n",
       "      <td>0.596651</td>\n",
       "      <td>0.611453</td>\n",
       "      <td>0.642920</td>\n",
       "      <td>0.621454</td>\n",
       "    </tr>\n",
       "    <tr>\n",
       "      <th>12</th>\n",
       "      <td>0.594490</td>\n",
       "      <td>0.597133</td>\n",
       "      <td>0.607920</td>\n",
       "      <td>0.613604</td>\n",
       "      <td>0.625136</td>\n",
       "      <td>0.614693</td>\n",
       "      <td>0.611379</td>\n",
       "      <td>0.629327</td>\n",
       "      <td>0.642775</td>\n",
       "      <td>0.631723</td>\n",
       "      <td>...</td>\n",
       "      <td>0.626997</td>\n",
       "      <td>0.608360</td>\n",
       "      <td>0.638786</td>\n",
       "      <td>0.621114</td>\n",
       "      <td>0.645173</td>\n",
       "      <td>0.649271</td>\n",
       "      <td>0.627893</td>\n",
       "      <td>0.619907</td>\n",
       "      <td>0.648766</td>\n",
       "      <td>0.616830</td>\n",
       "    </tr>\n",
       "    <tr>\n",
       "      <th>13</th>\n",
       "      <td>0.613052</td>\n",
       "      <td>0.610956</td>\n",
       "      <td>0.596220</td>\n",
       "      <td>0.603553</td>\n",
       "      <td>0.615017</td>\n",
       "      <td>0.610988</td>\n",
       "      <td>0.641069</td>\n",
       "      <td>0.630885</td>\n",
       "      <td>0.622235</td>\n",
       "      <td>0.638906</td>\n",
       "      <td>...</td>\n",
       "      <td>0.632512</td>\n",
       "      <td>0.636386</td>\n",
       "      <td>0.644739</td>\n",
       "      <td>0.652198</td>\n",
       "      <td>0.602734</td>\n",
       "      <td>0.609175</td>\n",
       "      <td>0.594237</td>\n",
       "      <td>0.646155</td>\n",
       "      <td>0.638403</td>\n",
       "      <td>0.614301</td>\n",
       "    </tr>\n",
       "    <tr>\n",
       "      <th>14</th>\n",
       "      <td>0.627573</td>\n",
       "      <td>0.605262</td>\n",
       "      <td>0.592704</td>\n",
       "      <td>0.596101</td>\n",
       "      <td>0.631581</td>\n",
       "      <td>0.615491</td>\n",
       "      <td>0.631046</td>\n",
       "      <td>0.623729</td>\n",
       "      <td>0.629854</td>\n",
       "      <td>0.618507</td>\n",
       "      <td>...</td>\n",
       "      <td>0.645204</td>\n",
       "      <td>0.612401</td>\n",
       "      <td>0.621207</td>\n",
       "      <td>0.609024</td>\n",
       "      <td>0.621758</td>\n",
       "      <td>0.637158</td>\n",
       "      <td>0.632680</td>\n",
       "      <td>0.626914</td>\n",
       "      <td>0.634975</td>\n",
       "      <td>0.613150</td>\n",
       "    </tr>\n",
       "    <tr>\n",
       "      <th>15</th>\n",
       "      <td>0.600213</td>\n",
       "      <td>0.622907</td>\n",
       "      <td>0.607562</td>\n",
       "      <td>0.625278</td>\n",
       "      <td>0.614735</td>\n",
       "      <td>0.630640</td>\n",
       "      <td>0.615646</td>\n",
       "      <td>0.611862</td>\n",
       "      <td>0.628842</td>\n",
       "      <td>0.634517</td>\n",
       "      <td>...</td>\n",
       "      <td>0.644390</td>\n",
       "      <td>0.633604</td>\n",
       "      <td>0.653735</td>\n",
       "      <td>0.645766</td>\n",
       "      <td>0.634745</td>\n",
       "      <td>0.643341</td>\n",
       "      <td>0.626140</td>\n",
       "      <td>0.604129</td>\n",
       "      <td>0.622226</td>\n",
       "      <td>0.630092</td>\n",
       "    </tr>\n",
       "    <tr>\n",
       "      <th>16</th>\n",
       "      <td>0.616022</td>\n",
       "      <td>0.605609</td>\n",
       "      <td>0.620714</td>\n",
       "      <td>0.607243</td>\n",
       "      <td>0.630066</td>\n",
       "      <td>0.646158</td>\n",
       "      <td>0.623674</td>\n",
       "      <td>0.631653</td>\n",
       "      <td>0.628391</td>\n",
       "      <td>0.654587</td>\n",
       "      <td>...</td>\n",
       "      <td>0.637765</td>\n",
       "      <td>0.620620</td>\n",
       "      <td>0.637634</td>\n",
       "      <td>0.649146</td>\n",
       "      <td>0.627096</td>\n",
       "      <td>0.623972</td>\n",
       "      <td>0.619348</td>\n",
       "      <td>0.654587</td>\n",
       "      <td>0.624858</td>\n",
       "      <td>0.630721</td>\n",
       "    </tr>\n",
       "    <tr>\n",
       "      <th>17</th>\n",
       "      <td>0.602545</td>\n",
       "      <td>0.625296</td>\n",
       "      <td>0.631891</td>\n",
       "      <td>0.649984</td>\n",
       "      <td>0.604627</td>\n",
       "      <td>0.624786</td>\n",
       "      <td>0.615706</td>\n",
       "      <td>0.637099</td>\n",
       "      <td>0.662114</td>\n",
       "      <td>0.627345</td>\n",
       "      <td>...</td>\n",
       "      <td>0.612290</td>\n",
       "      <td>0.631374</td>\n",
       "      <td>0.617257</td>\n",
       "      <td>0.664734</td>\n",
       "      <td>0.630019</td>\n",
       "      <td>0.623802</td>\n",
       "      <td>0.608946</td>\n",
       "      <td>0.627753</td>\n",
       "      <td>0.646937</td>\n",
       "      <td>0.647266</td>\n",
       "    </tr>\n",
       "    <tr>\n",
       "      <th>18</th>\n",
       "      <td>0.643649</td>\n",
       "      <td>0.627042</td>\n",
       "      <td>0.608462</td>\n",
       "      <td>0.619834</td>\n",
       "      <td>0.632641</td>\n",
       "      <td>0.618080</td>\n",
       "      <td>0.626924</td>\n",
       "      <td>0.638628</td>\n",
       "      <td>0.640963</td>\n",
       "      <td>0.662491</td>\n",
       "      <td>...</td>\n",
       "      <td>0.631074</td>\n",
       "      <td>0.639995</td>\n",
       "      <td>0.648238</td>\n",
       "      <td>0.640141</td>\n",
       "      <td>0.654550</td>\n",
       "      <td>0.648612</td>\n",
       "      <td>0.639230</td>\n",
       "      <td>0.640920</td>\n",
       "      <td>0.659456</td>\n",
       "      <td>0.615521</td>\n",
       "    </tr>\n",
       "    <tr>\n",
       "      <th>19</th>\n",
       "      <td>0.613209</td>\n",
       "      <td>0.622434</td>\n",
       "      <td>0.627979</td>\n",
       "      <td>0.630547</td>\n",
       "      <td>0.660708</td>\n",
       "      <td>0.629319</td>\n",
       "      <td>0.648111</td>\n",
       "      <td>0.639936</td>\n",
       "      <td>0.634029</td>\n",
       "      <td>0.639975</td>\n",
       "      <td>...</td>\n",
       "      <td>0.662782</td>\n",
       "      <td>0.689679</td>\n",
       "      <td>0.642028</td>\n",
       "      <td>0.623436</td>\n",
       "      <td>0.642298</td>\n",
       "      <td>0.643507</td>\n",
       "      <td>0.639210</td>\n",
       "      <td>0.627960</td>\n",
       "      <td>0.623559</td>\n",
       "      <td>0.619145</td>\n",
       "    </tr>\n",
       "    <tr>\n",
       "      <th>20</th>\n",
       "      <td>0.630926</td>\n",
       "      <td>0.618733</td>\n",
       "      <td>0.637615</td>\n",
       "      <td>0.646050</td>\n",
       "      <td>0.640266</td>\n",
       "      <td>0.638385</td>\n",
       "      <td>0.636832</td>\n",
       "      <td>0.649447</td>\n",
       "      <td>0.624797</td>\n",
       "      <td>0.663608</td>\n",
       "      <td>...</td>\n",
       "      <td>0.623380</td>\n",
       "      <td>0.665973</td>\n",
       "      <td>0.637023</td>\n",
       "      <td>0.668947</td>\n",
       "      <td>0.661905</td>\n",
       "      <td>0.663607</td>\n",
       "      <td>0.633981</td>\n",
       "      <td>0.659515</td>\n",
       "      <td>0.624980</td>\n",
       "      <td>0.663859</td>\n",
       "    </tr>\n",
       "    <tr>\n",
       "      <th>21</th>\n",
       "      <td>0.634831</td>\n",
       "      <td>0.655970</td>\n",
       "      <td>0.629925</td>\n",
       "      <td>0.667947</td>\n",
       "      <td>0.661818</td>\n",
       "      <td>0.631527</td>\n",
       "      <td>0.641002</td>\n",
       "      <td>0.634737</td>\n",
       "      <td>0.640726</td>\n",
       "      <td>0.636178</td>\n",
       "      <td>...</td>\n",
       "      <td>0.674167</td>\n",
       "      <td>0.649620</td>\n",
       "      <td>0.638200</td>\n",
       "      <td>0.645971</td>\n",
       "      <td>0.664290</td>\n",
       "      <td>0.654122</td>\n",
       "      <td>0.636998</td>\n",
       "      <td>0.631049</td>\n",
       "      <td>0.647993</td>\n",
       "      <td>0.666762</td>\n",
       "    </tr>\n",
       "    <tr>\n",
       "      <th>22</th>\n",
       "      <td>0.626385</td>\n",
       "      <td>0.623949</td>\n",
       "      <td>0.628802</td>\n",
       "      <td>0.639266</td>\n",
       "      <td>0.649341</td>\n",
       "      <td>0.639981</td>\n",
       "      <td>0.643213</td>\n",
       "      <td>0.594057</td>\n",
       "      <td>0.634891</td>\n",
       "      <td>0.655720</td>\n",
       "      <td>...</td>\n",
       "      <td>0.670127</td>\n",
       "      <td>0.660518</td>\n",
       "      <td>0.644644</td>\n",
       "      <td>0.638011</td>\n",
       "      <td>0.659085</td>\n",
       "      <td>0.642889</td>\n",
       "      <td>0.606819</td>\n",
       "      <td>0.668135</td>\n",
       "      <td>0.633836</td>\n",
       "      <td>0.627042</td>\n",
       "    </tr>\n",
       "    <tr>\n",
       "      <th>23</th>\n",
       "      <td>0.616582</td>\n",
       "      <td>0.633545</td>\n",
       "      <td>0.646646</td>\n",
       "      <td>0.656160</td>\n",
       "      <td>0.651528</td>\n",
       "      <td>0.622488</td>\n",
       "      <td>0.621498</td>\n",
       "      <td>0.641060</td>\n",
       "      <td>0.643420</td>\n",
       "      <td>0.660168</td>\n",
       "      <td>...</td>\n",
       "      <td>0.644276</td>\n",
       "      <td>0.652197</td>\n",
       "      <td>0.648402</td>\n",
       "      <td>0.633712</td>\n",
       "      <td>0.649402</td>\n",
       "      <td>0.620983</td>\n",
       "      <td>0.679644</td>\n",
       "      <td>0.647346</td>\n",
       "      <td>0.675586</td>\n",
       "      <td>0.649461</td>\n",
       "    </tr>\n",
       "    <tr>\n",
       "      <th>24</th>\n",
       "      <td>0.636542</td>\n",
       "      <td>0.651872</td>\n",
       "      <td>0.624807</td>\n",
       "      <td>0.650963</td>\n",
       "      <td>0.647164</td>\n",
       "      <td>0.652706</td>\n",
       "      <td>0.649632</td>\n",
       "      <td>0.665887</td>\n",
       "      <td>0.639304</td>\n",
       "      <td>0.660969</td>\n",
       "      <td>...</td>\n",
       "      <td>0.642524</td>\n",
       "      <td>0.639559</td>\n",
       "      <td>0.660572</td>\n",
       "      <td>0.663650</td>\n",
       "      <td>0.669336</td>\n",
       "      <td>0.651199</td>\n",
       "      <td>0.667806</td>\n",
       "      <td>0.642718</td>\n",
       "      <td>0.647048</td>\n",
       "      <td>0.668451</td>\n",
       "    </tr>\n",
       "    <tr>\n",
       "      <th>25</th>\n",
       "      <td>0.606337</td>\n",
       "      <td>0.632040</td>\n",
       "      <td>0.633898</td>\n",
       "      <td>0.639863</td>\n",
       "      <td>0.630744</td>\n",
       "      <td>0.652034</td>\n",
       "      <td>0.675212</td>\n",
       "      <td>0.652902</td>\n",
       "      <td>0.666753</td>\n",
       "      <td>0.664646</td>\n",
       "      <td>...</td>\n",
       "      <td>0.654615</td>\n",
       "      <td>0.662608</td>\n",
       "      <td>0.641150</td>\n",
       "      <td>0.643943</td>\n",
       "      <td>0.651841</td>\n",
       "      <td>0.653041</td>\n",
       "      <td>0.658214</td>\n",
       "      <td>0.657807</td>\n",
       "      <td>0.654800</td>\n",
       "      <td>0.661187</td>\n",
       "    </tr>\n",
       "    <tr>\n",
       "      <th>26</th>\n",
       "      <td>0.630924</td>\n",
       "      <td>0.620129</td>\n",
       "      <td>0.619501</td>\n",
       "      <td>0.656485</td>\n",
       "      <td>0.641445</td>\n",
       "      <td>0.629393</td>\n",
       "      <td>0.661730</td>\n",
       "      <td>0.642333</td>\n",
       "      <td>0.634494</td>\n",
       "      <td>0.658031</td>\n",
       "      <td>...</td>\n",
       "      <td>0.653713</td>\n",
       "      <td>0.641746</td>\n",
       "      <td>0.643013</td>\n",
       "      <td>0.665243</td>\n",
       "      <td>0.628277</td>\n",
       "      <td>0.685839</td>\n",
       "      <td>0.660387</td>\n",
       "      <td>0.649530</td>\n",
       "      <td>0.659378</td>\n",
       "      <td>0.649327</td>\n",
       "    </tr>\n",
       "    <tr>\n",
       "      <th>27</th>\n",
       "      <td>0.643263</td>\n",
       "      <td>0.627288</td>\n",
       "      <td>0.663355</td>\n",
       "      <td>0.616422</td>\n",
       "      <td>0.622274</td>\n",
       "      <td>0.658294</td>\n",
       "      <td>0.646337</td>\n",
       "      <td>0.652191</td>\n",
       "      <td>0.657884</td>\n",
       "      <td>0.664285</td>\n",
       "      <td>...</td>\n",
       "      <td>0.668242</td>\n",
       "      <td>0.678025</td>\n",
       "      <td>0.654781</td>\n",
       "      <td>0.674498</td>\n",
       "      <td>0.665540</td>\n",
       "      <td>0.672047</td>\n",
       "      <td>0.632050</td>\n",
       "      <td>0.658522</td>\n",
       "      <td>0.639120</td>\n",
       "      <td>0.646810</td>\n",
       "    </tr>\n",
       "    <tr>\n",
       "      <th>28</th>\n",
       "      <td>0.654340</td>\n",
       "      <td>0.642475</td>\n",
       "      <td>0.633847</td>\n",
       "      <td>0.627200</td>\n",
       "      <td>0.668181</td>\n",
       "      <td>0.626658</td>\n",
       "      <td>0.663560</td>\n",
       "      <td>0.644396</td>\n",
       "      <td>0.664539</td>\n",
       "      <td>0.654125</td>\n",
       "      <td>...</td>\n",
       "      <td>0.647955</td>\n",
       "      <td>0.656629</td>\n",
       "      <td>0.658537</td>\n",
       "      <td>0.642347</td>\n",
       "      <td>0.641253</td>\n",
       "      <td>0.657605</td>\n",
       "      <td>0.654570</td>\n",
       "      <td>0.673223</td>\n",
       "      <td>0.674616</td>\n",
       "      <td>0.642800</td>\n",
       "    </tr>\n",
       "    <tr>\n",
       "      <th>29</th>\n",
       "      <td>0.645503</td>\n",
       "      <td>0.650387</td>\n",
       "      <td>0.634939</td>\n",
       "      <td>0.641856</td>\n",
       "      <td>0.657525</td>\n",
       "      <td>0.645357</td>\n",
       "      <td>0.645249</td>\n",
       "      <td>0.636859</td>\n",
       "      <td>0.646429</td>\n",
       "      <td>0.663430</td>\n",
       "      <td>...</td>\n",
       "      <td>0.652617</td>\n",
       "      <td>0.639973</td>\n",
       "      <td>0.632381</td>\n",
       "      <td>0.630485</td>\n",
       "      <td>0.651870</td>\n",
       "      <td>0.662937</td>\n",
       "      <td>0.643295</td>\n",
       "      <td>0.668381</td>\n",
       "      <td>0.652309</td>\n",
       "      <td>0.687702</td>\n",
       "    </tr>\n",
       "    <tr>\n",
       "      <th>30</th>\n",
       "      <td>0.647448</td>\n",
       "      <td>0.628711</td>\n",
       "      <td>0.634794</td>\n",
       "      <td>0.653513</td>\n",
       "      <td>0.652433</td>\n",
       "      <td>0.635029</td>\n",
       "      <td>0.658952</td>\n",
       "      <td>0.666429</td>\n",
       "      <td>0.647764</td>\n",
       "      <td>0.659418</td>\n",
       "      <td>...</td>\n",
       "      <td>0.666558</td>\n",
       "      <td>0.673433</td>\n",
       "      <td>0.648186</td>\n",
       "      <td>0.648129</td>\n",
       "      <td>0.683726</td>\n",
       "      <td>0.662449</td>\n",
       "      <td>0.668829</td>\n",
       "      <td>0.687508</td>\n",
       "      <td>0.643150</td>\n",
       "      <td>0.651024</td>\n",
       "    </tr>\n",
       "    <tr>\n",
       "      <th>31</th>\n",
       "      <td>0.641917</td>\n",
       "      <td>0.631480</td>\n",
       "      <td>0.636100</td>\n",
       "      <td>0.645564</td>\n",
       "      <td>0.625189</td>\n",
       "      <td>0.658803</td>\n",
       "      <td>0.675494</td>\n",
       "      <td>0.636504</td>\n",
       "      <td>0.662101</td>\n",
       "      <td>0.655074</td>\n",
       "      <td>...</td>\n",
       "      <td>0.655941</td>\n",
       "      <td>0.658395</td>\n",
       "      <td>0.683198</td>\n",
       "      <td>0.648691</td>\n",
       "      <td>0.636585</td>\n",
       "      <td>0.652702</td>\n",
       "      <td>0.653147</td>\n",
       "      <td>0.654869</td>\n",
       "      <td>0.617044</td>\n",
       "      <td>0.675351</td>\n",
       "    </tr>\n",
       "    <tr>\n",
       "      <th>32</th>\n",
       "      <td>0.618470</td>\n",
       "      <td>0.618043</td>\n",
       "      <td>0.645984</td>\n",
       "      <td>0.666525</td>\n",
       "      <td>0.650357</td>\n",
       "      <td>0.618182</td>\n",
       "      <td>0.671999</td>\n",
       "      <td>0.655590</td>\n",
       "      <td>0.651477</td>\n",
       "      <td>0.675623</td>\n",
       "      <td>...</td>\n",
       "      <td>0.650330</td>\n",
       "      <td>0.666188</td>\n",
       "      <td>0.660433</td>\n",
       "      <td>0.657617</td>\n",
       "      <td>0.656132</td>\n",
       "      <td>0.672818</td>\n",
       "      <td>0.653048</td>\n",
       "      <td>0.677909</td>\n",
       "      <td>0.658008</td>\n",
       "      <td>0.672423</td>\n",
       "    </tr>\n",
       "    <tr>\n",
       "      <th>33</th>\n",
       "      <td>0.637546</td>\n",
       "      <td>0.613610</td>\n",
       "      <td>0.629567</td>\n",
       "      <td>0.650944</td>\n",
       "      <td>0.669615</td>\n",
       "      <td>0.643574</td>\n",
       "      <td>0.660120</td>\n",
       "      <td>0.656214</td>\n",
       "      <td>0.655683</td>\n",
       "      <td>0.676422</td>\n",
       "      <td>...</td>\n",
       "      <td>0.680457</td>\n",
       "      <td>0.674928</td>\n",
       "      <td>0.663094</td>\n",
       "      <td>0.662521</td>\n",
       "      <td>0.659297</td>\n",
       "      <td>0.664299</td>\n",
       "      <td>0.644643</td>\n",
       "      <td>0.682380</td>\n",
       "      <td>0.636173</td>\n",
       "      <td>0.656653</td>\n",
       "    </tr>\n",
       "    <tr>\n",
       "      <th>34</th>\n",
       "      <td>0.637542</td>\n",
       "      <td>0.629211</td>\n",
       "      <td>0.631941</td>\n",
       "      <td>0.663268</td>\n",
       "      <td>0.647430</td>\n",
       "      <td>0.652815</td>\n",
       "      <td>0.646554</td>\n",
       "      <td>0.655681</td>\n",
       "      <td>0.643228</td>\n",
       "      <td>0.650221</td>\n",
       "      <td>...</td>\n",
       "      <td>0.658537</td>\n",
       "      <td>0.686462</td>\n",
       "      <td>0.646085</td>\n",
       "      <td>0.645232</td>\n",
       "      <td>0.669271</td>\n",
       "      <td>0.668833</td>\n",
       "      <td>0.695615</td>\n",
       "      <td>0.660796</td>\n",
       "      <td>0.634692</td>\n",
       "      <td>0.641642</td>\n",
       "    </tr>\n",
       "    <tr>\n",
       "      <th>35</th>\n",
       "      <td>0.627730</td>\n",
       "      <td>0.639728</td>\n",
       "      <td>0.644848</td>\n",
       "      <td>0.648713</td>\n",
       "      <td>0.637546</td>\n",
       "      <td>0.635269</td>\n",
       "      <td>0.640061</td>\n",
       "      <td>0.667465</td>\n",
       "      <td>0.674609</td>\n",
       "      <td>0.652337</td>\n",
       "      <td>...</td>\n",
       "      <td>0.648522</td>\n",
       "      <td>0.666181</td>\n",
       "      <td>0.663690</td>\n",
       "      <td>0.676679</td>\n",
       "      <td>0.639275</td>\n",
       "      <td>0.649126</td>\n",
       "      <td>0.664030</td>\n",
       "      <td>0.669116</td>\n",
       "      <td>0.665194</td>\n",
       "      <td>0.674317</td>\n",
       "    </tr>\n",
       "    <tr>\n",
       "      <th>36</th>\n",
       "      <td>0.616428</td>\n",
       "      <td>0.646922</td>\n",
       "      <td>0.646380</td>\n",
       "      <td>0.635432</td>\n",
       "      <td>0.640398</td>\n",
       "      <td>0.636855</td>\n",
       "      <td>0.649779</td>\n",
       "      <td>0.654847</td>\n",
       "      <td>0.657005</td>\n",
       "      <td>0.662514</td>\n",
       "      <td>...</td>\n",
       "      <td>0.659557</td>\n",
       "      <td>0.671290</td>\n",
       "      <td>0.678072</td>\n",
       "      <td>0.665246</td>\n",
       "      <td>0.649386</td>\n",
       "      <td>0.680663</td>\n",
       "      <td>0.653129</td>\n",
       "      <td>0.642566</td>\n",
       "      <td>0.641470</td>\n",
       "      <td>0.679186</td>\n",
       "    </tr>\n",
       "    <tr>\n",
       "      <th>37</th>\n",
       "      <td>0.625637</td>\n",
       "      <td>0.634958</td>\n",
       "      <td>0.638194</td>\n",
       "      <td>0.640513</td>\n",
       "      <td>0.624455</td>\n",
       "      <td>0.638472</td>\n",
       "      <td>0.641112</td>\n",
       "      <td>0.648209</td>\n",
       "      <td>0.661942</td>\n",
       "      <td>0.641934</td>\n",
       "      <td>...</td>\n",
       "      <td>0.663203</td>\n",
       "      <td>0.656587</td>\n",
       "      <td>0.675121</td>\n",
       "      <td>0.681942</td>\n",
       "      <td>0.668085</td>\n",
       "      <td>0.671465</td>\n",
       "      <td>0.688797</td>\n",
       "      <td>0.670844</td>\n",
       "      <td>0.678510</td>\n",
       "      <td>0.643450</td>\n",
       "    </tr>\n",
       "    <tr>\n",
       "      <th>38</th>\n",
       "      <td>0.627091</td>\n",
       "      <td>0.636569</td>\n",
       "      <td>0.641438</td>\n",
       "      <td>0.653333</td>\n",
       "      <td>0.647871</td>\n",
       "      <td>0.627466</td>\n",
       "      <td>0.638963</td>\n",
       "      <td>0.645122</td>\n",
       "      <td>0.669996</td>\n",
       "      <td>0.684278</td>\n",
       "      <td>...</td>\n",
       "      <td>0.653793</td>\n",
       "      <td>0.648467</td>\n",
       "      <td>0.663771</td>\n",
       "      <td>0.658593</td>\n",
       "      <td>0.662307</td>\n",
       "      <td>0.661190</td>\n",
       "      <td>0.671709</td>\n",
       "      <td>0.653403</td>\n",
       "      <td>0.655294</td>\n",
       "      <td>0.646704</td>\n",
       "    </tr>\n",
       "    <tr>\n",
       "      <th>39</th>\n",
       "      <td>0.658940</td>\n",
       "      <td>0.653378</td>\n",
       "      <td>0.645090</td>\n",
       "      <td>0.647083</td>\n",
       "      <td>0.646713</td>\n",
       "      <td>0.646029</td>\n",
       "      <td>0.653595</td>\n",
       "      <td>0.649708</td>\n",
       "      <td>0.675483</td>\n",
       "      <td>0.674374</td>\n",
       "      <td>...</td>\n",
       "      <td>0.683053</td>\n",
       "      <td>0.659170</td>\n",
       "      <td>0.678378</td>\n",
       "      <td>0.654145</td>\n",
       "      <td>0.676085</td>\n",
       "      <td>0.661499</td>\n",
       "      <td>0.667118</td>\n",
       "      <td>0.698879</td>\n",
       "      <td>0.664234</td>\n",
       "      <td>0.670990</td>\n",
       "    </tr>\n",
       "  </tbody>\n",
       "</table>\n",
       "<p>37 rows × 37 columns</p>\n",
       "</div>"
      ],
      "text/plain": [
       "          3         4         5         6         7         8         9   \\\n",
       "3   0.440846  0.470903  0.458166  0.502610  0.553107  0.557666  0.571768   \n",
       "4   0.500143  0.544745  0.558901  0.555440  0.583789  0.578369  0.582607   \n",
       "5   0.549688  0.523104  0.570680  0.601499  0.565879  0.617478  0.611266   \n",
       "6   0.559077  0.570781  0.580491  0.581754  0.597290  0.587514  0.578769   \n",
       "7   0.578420  0.565852  0.596788  0.591148  0.594041  0.614539  0.602670   \n",
       "8   0.572872  0.569484  0.597808  0.623523  0.592080  0.597882  0.623457   \n",
       "9   0.588993  0.591692  0.615027  0.582816  0.630905  0.592699  0.625002   \n",
       "10  0.591833  0.605205  0.618259  0.610675  0.606550  0.629216  0.617675   \n",
       "11  0.590700  0.605399  0.598326  0.581843  0.613780  0.595665  0.617978   \n",
       "12  0.594490  0.597133  0.607920  0.613604  0.625136  0.614693  0.611379   \n",
       "13  0.613052  0.610956  0.596220  0.603553  0.615017  0.610988  0.641069   \n",
       "14  0.627573  0.605262  0.592704  0.596101  0.631581  0.615491  0.631046   \n",
       "15  0.600213  0.622907  0.607562  0.625278  0.614735  0.630640  0.615646   \n",
       "16  0.616022  0.605609  0.620714  0.607243  0.630066  0.646158  0.623674   \n",
       "17  0.602545  0.625296  0.631891  0.649984  0.604627  0.624786  0.615706   \n",
       "18  0.643649  0.627042  0.608462  0.619834  0.632641  0.618080  0.626924   \n",
       "19  0.613209  0.622434  0.627979  0.630547  0.660708  0.629319  0.648111   \n",
       "20  0.630926  0.618733  0.637615  0.646050  0.640266  0.638385  0.636832   \n",
       "21  0.634831  0.655970  0.629925  0.667947  0.661818  0.631527  0.641002   \n",
       "22  0.626385  0.623949  0.628802  0.639266  0.649341  0.639981  0.643213   \n",
       "23  0.616582  0.633545  0.646646  0.656160  0.651528  0.622488  0.621498   \n",
       "24  0.636542  0.651872  0.624807  0.650963  0.647164  0.652706  0.649632   \n",
       "25  0.606337  0.632040  0.633898  0.639863  0.630744  0.652034  0.675212   \n",
       "26  0.630924  0.620129  0.619501  0.656485  0.641445  0.629393  0.661730   \n",
       "27  0.643263  0.627288  0.663355  0.616422  0.622274  0.658294  0.646337   \n",
       "28  0.654340  0.642475  0.633847  0.627200  0.668181  0.626658  0.663560   \n",
       "29  0.645503  0.650387  0.634939  0.641856  0.657525  0.645357  0.645249   \n",
       "30  0.647448  0.628711  0.634794  0.653513  0.652433  0.635029  0.658952   \n",
       "31  0.641917  0.631480  0.636100  0.645564  0.625189  0.658803  0.675494   \n",
       "32  0.618470  0.618043  0.645984  0.666525  0.650357  0.618182  0.671999   \n",
       "33  0.637546  0.613610  0.629567  0.650944  0.669615  0.643574  0.660120   \n",
       "34  0.637542  0.629211  0.631941  0.663268  0.647430  0.652815  0.646554   \n",
       "35  0.627730  0.639728  0.644848  0.648713  0.637546  0.635269  0.640061   \n",
       "36  0.616428  0.646922  0.646380  0.635432  0.640398  0.636855  0.649779   \n",
       "37  0.625637  0.634958  0.638194  0.640513  0.624455  0.638472  0.641112   \n",
       "38  0.627091  0.636569  0.641438  0.653333  0.647871  0.627466  0.638963   \n",
       "39  0.658940  0.653378  0.645090  0.647083  0.646713  0.646029  0.653595   \n",
       "\n",
       "          10        11        12  ...        30        31        32        33  \\\n",
       "3   0.552508  0.570517  0.576014  ...  0.566717  0.580202  0.556341  0.551711   \n",
       "4   0.607193  0.602407  0.610175  ...  0.599851  0.585430  0.594905  0.591029   \n",
       "5   0.598925  0.630885  0.601480  ...  0.615223  0.634241  0.585369  0.575000   \n",
       "6   0.623235  0.621124  0.613893  ...  0.625510  0.609897  0.613382  0.611875   \n",
       "7   0.617364  0.614846  0.624501  ...  0.609911  0.636985  0.611991  0.596142   \n",
       "8   0.610953  0.637452  0.605844  ...  0.614480  0.605060  0.623050  0.611308   \n",
       "9   0.622307  0.601338  0.625221  ...  0.613836  0.645865  0.621138  0.625851   \n",
       "10  0.597738  0.632303  0.633132  ...  0.637031  0.617051  0.648575  0.618879   \n",
       "11  0.620106  0.620145  0.627149  ...  0.605294  0.637282  0.626399  0.608173   \n",
       "12  0.629327  0.642775  0.631723  ...  0.626997  0.608360  0.638786  0.621114   \n",
       "13  0.630885  0.622235  0.638906  ...  0.632512  0.636386  0.644739  0.652198   \n",
       "14  0.623729  0.629854  0.618507  ...  0.645204  0.612401  0.621207  0.609024   \n",
       "15  0.611862  0.628842  0.634517  ...  0.644390  0.633604  0.653735  0.645766   \n",
       "16  0.631653  0.628391  0.654587  ...  0.637765  0.620620  0.637634  0.649146   \n",
       "17  0.637099  0.662114  0.627345  ...  0.612290  0.631374  0.617257  0.664734   \n",
       "18  0.638628  0.640963  0.662491  ...  0.631074  0.639995  0.648238  0.640141   \n",
       "19  0.639936  0.634029  0.639975  ...  0.662782  0.689679  0.642028  0.623436   \n",
       "20  0.649447  0.624797  0.663608  ...  0.623380  0.665973  0.637023  0.668947   \n",
       "21  0.634737  0.640726  0.636178  ...  0.674167  0.649620  0.638200  0.645971   \n",
       "22  0.594057  0.634891  0.655720  ...  0.670127  0.660518  0.644644  0.638011   \n",
       "23  0.641060  0.643420  0.660168  ...  0.644276  0.652197  0.648402  0.633712   \n",
       "24  0.665887  0.639304  0.660969  ...  0.642524  0.639559  0.660572  0.663650   \n",
       "25  0.652902  0.666753  0.664646  ...  0.654615  0.662608  0.641150  0.643943   \n",
       "26  0.642333  0.634494  0.658031  ...  0.653713  0.641746  0.643013  0.665243   \n",
       "27  0.652191  0.657884  0.664285  ...  0.668242  0.678025  0.654781  0.674498   \n",
       "28  0.644396  0.664539  0.654125  ...  0.647955  0.656629  0.658537  0.642347   \n",
       "29  0.636859  0.646429  0.663430  ...  0.652617  0.639973  0.632381  0.630485   \n",
       "30  0.666429  0.647764  0.659418  ...  0.666558  0.673433  0.648186  0.648129   \n",
       "31  0.636504  0.662101  0.655074  ...  0.655941  0.658395  0.683198  0.648691   \n",
       "32  0.655590  0.651477  0.675623  ...  0.650330  0.666188  0.660433  0.657617   \n",
       "33  0.656214  0.655683  0.676422  ...  0.680457  0.674928  0.663094  0.662521   \n",
       "34  0.655681  0.643228  0.650221  ...  0.658537  0.686462  0.646085  0.645232   \n",
       "35  0.667465  0.674609  0.652337  ...  0.648522  0.666181  0.663690  0.676679   \n",
       "36  0.654847  0.657005  0.662514  ...  0.659557  0.671290  0.678072  0.665246   \n",
       "37  0.648209  0.661942  0.641934  ...  0.663203  0.656587  0.675121  0.681942   \n",
       "38  0.645122  0.669996  0.684278  ...  0.653793  0.648467  0.663771  0.658593   \n",
       "39  0.649708  0.675483  0.674374  ...  0.683053  0.659170  0.678378  0.654145   \n",
       "\n",
       "          34        35        36        37        38        39  \n",
       "3   0.558201  0.567859  0.579607  0.579720  0.581158  0.576771  \n",
       "4   0.616352  0.589741  0.598256  0.600492  0.598814  0.590135  \n",
       "5   0.620266  0.603070  0.627997  0.601249  0.593915  0.589002  \n",
       "6   0.611378  0.619744  0.621517  0.593259  0.593494  0.574636  \n",
       "7   0.629376  0.629604  0.608985  0.613676  0.646223  0.587493  \n",
       "8   0.592840  0.631949  0.614994  0.614224  0.609711  0.592275  \n",
       "9   0.627871  0.620283  0.628443  0.600441  0.607498  0.584898  \n",
       "10  0.619619  0.613541  0.631028  0.620852  0.618545  0.618700  \n",
       "11  0.621211  0.638514  0.596651  0.611453  0.642920  0.621454  \n",
       "12  0.645173  0.649271  0.627893  0.619907  0.648766  0.616830  \n",
       "13  0.602734  0.609175  0.594237  0.646155  0.638403  0.614301  \n",
       "14  0.621758  0.637158  0.632680  0.626914  0.634975  0.613150  \n",
       "15  0.634745  0.643341  0.626140  0.604129  0.622226  0.630092  \n",
       "16  0.627096  0.623972  0.619348  0.654587  0.624858  0.630721  \n",
       "17  0.630019  0.623802  0.608946  0.627753  0.646937  0.647266  \n",
       "18  0.654550  0.648612  0.639230  0.640920  0.659456  0.615521  \n",
       "19  0.642298  0.643507  0.639210  0.627960  0.623559  0.619145  \n",
       "20  0.661905  0.663607  0.633981  0.659515  0.624980  0.663859  \n",
       "21  0.664290  0.654122  0.636998  0.631049  0.647993  0.666762  \n",
       "22  0.659085  0.642889  0.606819  0.668135  0.633836  0.627042  \n",
       "23  0.649402  0.620983  0.679644  0.647346  0.675586  0.649461  \n",
       "24  0.669336  0.651199  0.667806  0.642718  0.647048  0.668451  \n",
       "25  0.651841  0.653041  0.658214  0.657807  0.654800  0.661187  \n",
       "26  0.628277  0.685839  0.660387  0.649530  0.659378  0.649327  \n",
       "27  0.665540  0.672047  0.632050  0.658522  0.639120  0.646810  \n",
       "28  0.641253  0.657605  0.654570  0.673223  0.674616  0.642800  \n",
       "29  0.651870  0.662937  0.643295  0.668381  0.652309  0.687702  \n",
       "30  0.683726  0.662449  0.668829  0.687508  0.643150  0.651024  \n",
       "31  0.636585  0.652702  0.653147  0.654869  0.617044  0.675351  \n",
       "32  0.656132  0.672818  0.653048  0.677909  0.658008  0.672423  \n",
       "33  0.659297  0.664299  0.644643  0.682380  0.636173  0.656653  \n",
       "34  0.669271  0.668833  0.695615  0.660796  0.634692  0.641642  \n",
       "35  0.639275  0.649126  0.664030  0.669116  0.665194  0.674317  \n",
       "36  0.649386  0.680663  0.653129  0.642566  0.641470  0.679186  \n",
       "37  0.668085  0.671465  0.688797  0.670844  0.678510  0.643450  \n",
       "38  0.662307  0.661190  0.671709  0.653403  0.655294  0.646704  \n",
       "39  0.676085  0.661499  0.667118  0.698879  0.664234  0.670990  \n",
       "\n",
       "[37 rows x 37 columns]"
      ]
     },
     "execution_count": 20,
     "metadata": {},
     "output_type": "execute_result"
    }
   ],
   "source": [
    "pd.DataFrame(mat, index = range(*n_range), columns=range(*n_range))"
   ]
  },
  {
   "cell_type": "code",
   "execution_count": 21,
   "metadata": {},
   "outputs": [
    {
     "name": "stdout",
     "output_type": "stream",
     "text": [
      "[35 24]\n"
     ]
    }
   ],
   "source": [
    "opt_n_cmp= np.asarray(np.unravel_index(np.argmax(mat), mat.shape))+(n_range[0], n_range[0])\n",
    "print(opt_n_cmp)"
   ]
  },
  {
   "cell_type": "code",
   "execution_count": 22,
   "metadata": {},
   "outputs": [
    {
     "data": {
      "text/plain": [
       "GaussianMixture(n_components=24)"
      ]
     },
     "execution_count": 22,
     "metadata": {},
     "output_type": "execute_result"
    }
   ],
   "source": [
    "gm0_opt = GaussianMixture(n_components=opt_n_cmp[0])\n",
    "gm1_opt = GaussianMixture(n_components=opt_n_cmp[1])\n",
    "\n",
    "gm0_opt.fit(real_train.loc[:, 'a1':'a3'])\n",
    "gm1_opt.fit(counterfeit_train.loc[:, 'a1':'a3'])"
   ]
  },
  {
   "cell_type": "code",
   "execution_count": 23,
   "metadata": {},
   "outputs": [
    {
     "data": {
      "application/scrapbook.scrap.json+json": {
       "data": [
        0.9672131147540983,
        0.03278688524590164,
        0.04081632653061224,
        0.9591836734693877,
        0.9591836734693877,
        0.9591836734693877,
        0.9940615590498494
       ],
       "encoder": "json",
       "name": "C_scores",
       "version": 1
      }
     },
     "metadata": {
      "scrapbook": {
       "data": true,
       "display": false,
       "name": "C_scores"
      }
     },
     "output_type": "display_data"
    },
    {
     "data": {
      "text/plain": [
       "[0.9672131147540983,\n",
       " 0.03278688524590164,\n",
       " 0.04081632653061224,\n",
       " 0.9591836734693877,\n",
       " 0.9591836734693877,\n",
       " 0.9591836734693877,\n",
       " 0.9940615590498494]"
      ]
     },
     "metadata": {
      "scrapbook": {
       "data": false,
       "display": true,
       "name": "C_scores"
      }
     },
     "output_type": "display_data"
    }
   ],
   "source": [
    "mgda_opt = make_predict_proba(gm0_opt, gm1_opt, pi1=0.44)\n",
    "\n",
    "mgda_opt_test_proba = mgda_opt(data_test.loc[:,'a1':'a3'])\n",
    "mgda_opt_fprs, mgda_opt_tprs, mgda_opt_thds = roc_curve(data_test['counterfeit'], mgda_opt_test_proba)\n",
    "mgda_opt_auc = roc_auc_score(data_test['counterfeit'], mgda_opt_test_proba)\n",
    "mgda_opt_tnr, mgda_opt_fpr, mgda_opt_fnr, mgda_opt_tpr = confusion_matrix(data_test['counterfeit'], mgda_opt_test_proba>0.5, normalize='true').ravel()\n",
    "mgda_opt_f1_score = f1_score(data_test['counterfeit'], mgda_opt_test_proba>0.5)\n",
    "mgda_opt_precision = precision_score(data_test['counterfeit'], mgda_opt_test_proba>0.5)\n",
    "sb.glue('C_scores',[mgda_opt_tnr, mgda_opt_fpr, mgda_opt_fnr, mgda_opt_tpr, mgda_opt_precision, mgda_opt_f1_score, mgda_opt_auc], display=True)"
   ]
  },
  {
   "cell_type": "code",
   "execution_count": 24,
   "metadata": {},
   "outputs": [
    {
     "data": {
      "image/png": "[encoded data removed]",
      "text/plain": [
       "<Figure size 576x576 with 1 Axes>"
      ]
     },
     "metadata": {
      "needs_background": "light"
     },
     "output_type": "display_data"
    }
   ],
   "source": [
    "fig, ax = roc_plot()\n",
    "add_roc_curve(data_test['counterfeit'], test_proba, name='qda', ax=ax)\n",
    "add_roc_curve(data_test['counterfeit'], mgda_test_proba, name='mgda', ax=ax)\n",
    "add_roc_curve(data_test['counterfeit'], mgda_opt_test_proba, name='mgda_opt', ax=ax)\n",
    "ax.legend()\n",
    "sb.glue('C_ROC',fig, \"display\", display=False)"
   ]
  },
  {
   "cell_type": "markdown",
   "metadata": {},
   "source": [
    "## D.  "
   ]
  },
  {
   "cell_type": "markdown",
   "metadata": {},
   "source": [
    "Assume that 1% of all the customers in your store presents a counterfeit 100PLN bill. If you accept the counterfeit bill you loose 100PLN. If you reject a valid bill,  you may loose the purchase, you estimate this loss as 15PLN on average. For each of the three classifiers find the threshold that minimises your losses and calculates the minimum loss for each classifier. Show the optimal classifiers points on the ROC curves."
   ]
  },
  {
   "cell_type": "code",
   "execution_count": 25,
   "metadata": {},
   "outputs": [],
   "source": [
    "def calculate_score(fpr, fnr):\n",
    "    return fnr * 0.01 * 100 + fpr * 0.01 * 15\n",
    "\n",
    "\n",
    "def calculate_optimal(fprs,tprs,thds):\n",
    "    min_loss = 1\n",
    "    index = 0\n",
    "    for i, _ in enumerate(thds):\n",
    "            s=calculate_score(fprs[i], 1-tprs[i])\n",
    "            if (s<min_loss):\n",
    "                min_loss=s\n",
    "                index=i\n",
    "    tnr = 1 - fprs[index]\n",
    "    fpr = fprs[index]\n",
    "    fnr = 1 - tprs[index]\n",
    "    tpr = tprs[index]\n",
    "    thres = thds[index]\n",
    "    prec = precision_score(data_test['counterfeit'], test_proba>thres)\n",
    "    f1 = f1_score(data_test['counterfeit'], test_proba>thres)\n",
    "    auc = roc_auc_score(data_test['counterfeit'], test_proba)\n",
    "    return tnr, fpr, fnr, tpr, prec, f1, auc, min_loss, thres"
   ]
  },
  {
   "cell_type": "code",
   "execution_count": 26,
   "metadata": {},
   "outputs": [
    {
     "data": {
      "application/scrapbook.scrap.json+json": {
       "data": [
        0.7213114754098361,
        0.2786885245901639,
        0.061224489795918324,
        0.9387755102040817,
        0.728,
        0.8161434977578476,
        0.8670960187353629,
        0.10302776848444291,
        0.16916593822909295
       ],
       "encoder": "json",
       "name": "D_A_scores",
       "version": 1
      }
     },
     "metadata": {
      "scrapbook": {
       "data": true,
       "display": false,
       "name": "D_A_scores"
      }
     },
     "output_type": "display_data"
    },
    {
     "data": {
      "text/plain": [
       "[0.7213114754098361,\n",
       " 0.2786885245901639,\n",
       " 0.061224489795918324,\n",
       " 0.9387755102040817,\n",
       " 0.728,\n",
       " 0.8161434977578476,\n",
       " 0.8670960187353629,\n",
       " 0.10302776848444291,\n",
       " 0.16916593822909295]"
      ]
     },
     "metadata": {
      "scrapbook": {
       "data": false,
       "display": true,
       "name": "D_A_scores"
      }
     },
     "output_type": "display_data"
    }
   ],
   "source": [
    "tnr, fpr, fnr, tpr, precision, f1, auc, min_loss, threshold = calculate_optimal(fprs,tprs,thds)\n",
    "sb.glue('D_A_scores',[tnr, fpr, fnr, tpr, precision, f1, auc, min_loss, threshold], display=True)"
   ]
  },
  {
   "cell_type": "code",
   "execution_count": 27,
   "metadata": {},
   "outputs": [
    {
     "data": {
      "application/scrapbook.scrap.json+json": {
       "data": [
        0.9344262295081968,
        0.06557377049180328,
        0.061224489795918324,
        0.9387755102040817,
        0.7545454545454545,
        0.7980769230769231,
        0.8670960187353629,
        0.07106055536968882,
        0.3346010935702068
       ],
       "encoder": "json",
       "name": "D_B_scores",
       "version": 1
      }
     },
     "metadata": {
      "scrapbook": {
       "data": true,
       "display": false,
       "name": "D_B_scores"
      }
     },
     "output_type": "display_data"
    },
    {
     "data": {
      "text/plain": [
       "[0.9344262295081968,\n",
       " 0.06557377049180328,\n",
       " 0.061224489795918324,\n",
       " 0.9387755102040817,\n",
       " 0.7545454545454545,\n",
       " 0.7980769230769231,\n",
       " 0.8670960187353629,\n",
       " 0.07106055536968882,\n",
       " 0.3346010935702068]"
      ]
     },
     "metadata": {
      "scrapbook": {
       "data": false,
       "display": true,
       "name": "D_B_scores"
      }
     },
     "output_type": "display_data"
    }
   ],
   "source": [
    "mgda_tnr, mgda_fpr, mgda_fnr, mgda_tpr, mgda_precision, mgda_f1, mgda_auc, mgda_min_loss, mgda_threshold = calculate_optimal(mgda_fprs,mgda_tprs,mgda_thds)\n",
    "sb.glue('D_B_scores',[mgda_tnr, mgda_fpr, mgda_fnr, mgda_tpr, mgda_precision, mgda_f1, mgda_auc, mgda_min_loss, mgda_threshold], display=True)"
   ]
  },
  {
   "cell_type": "code",
   "execution_count": 28,
   "metadata": {},
   "outputs": [
    {
     "data": {
      "application/scrapbook.scrap.json+json": {
       "data": [
        0.8770491803278688,
        0.12295081967213115,
        0,
        1,
        0.5679012345679012,
        0.7076923076923076,
        0.8670960187353629,
        0.018442622950819675,
        0.031164375537061462
       ],
       "encoder": "json",
       "name": "D_C_scores",
       "version": 1
      }
     },
     "metadata": {
      "scrapbook": {
       "data": true,
       "display": false,
       "name": "D_C_scores"
      }
     },
     "output_type": "display_data"
    },
    {
     "data": {
      "text/plain": [
       "[0.8770491803278688,\n",
       " 0.12295081967213115,\n",
       " 0.0,\n",
       " 1.0,\n",
       " 0.5679012345679012,\n",
       " 0.7076923076923076,\n",
       " 0.8670960187353629,\n",
       " 0.018442622950819675,\n",
       " 0.031164375537061462]"
      ]
     },
     "metadata": {
      "scrapbook": {
       "data": false,
       "display": true,
       "name": "D_C_scores"
      }
     },
     "output_type": "display_data"
    }
   ],
   "source": [
    "mgda_opt_tnr, mgda_opt_fpr, mgda_opt_fnr, mgda_opt_tpr, mgda_opt_precision, mgda_opt_f1, mgda_opt_auc, mgda_opt_min_loss, mgda_opt_threshold = calculate_optimal(mgda_opt_fprs,mgda_opt_tprs,mgda_opt_thds)\n",
    "sb.glue('D_C_scores',[mgda_opt_tnr, mgda_opt_fpr, mgda_opt_fnr, mgda_opt_tpr, mgda_opt_precision, mgda_opt_f1, mgda_opt_auc, mgda_opt_min_loss, mgda_opt_threshold], display=True)"
   ]
  },
  {
   "cell_type": "code",
   "execution_count": 29,
   "metadata": {},
   "outputs": [
    {
     "data": {
      "image/png": "[encoded data removed]",
      "text/plain": [
       "<Figure size 432x288 with 1 Axes>"
      ]
     },
     "metadata": {
      "needs_background": "light"
     },
     "output_type": "display_data"
    }
   ],
   "source": [
    "fig, ax = plt.subplots()\n",
    "ax.set_aspect(1)\n",
    "ax.plot([0, 1], [0, 1], linewidth=1, linestyle='--', color='grey')\n",
    "ax.plot(fprs, tprs, label=\"qda\")\n",
    "ax.scatter([fpr],[tpr], s = 30)\n",
    "ax.plot(mgda_fprs, mgda_tprs, label=\"mgda\")\n",
    "ax.scatter([mgda_fpr],[mgda_tpr], s = 30)\n",
    "ax.plot(mgda_opt_fprs, mgda_opt_tprs, label=\"mgda_opt\")\n",
    "ax.scatter([mgda_opt_fpr],[mgda_opt_tpr], s = 30)\n",
    "\n",
    "ax.legend(title='AUC')\n",
    "sb.glue('D_ROC',fig, \"display\", display=False)"
   ]
  },
  {
   "cell_type": "code",
   "execution_count": null,
   "metadata": {},
   "outputs": [],
   "source": []
  }
 ],
 "metadata": {
  "kernelspec": {
   "display_name": "Python 3",
   "language": "python",
   "name": "python3"
  },
  "language_info": {
   "codemirror_mode": {
    "name": "ipython",
    "version": 3
   },
   "file_extension": ".py",
   "mimetype": "text/x-python",
   "name": "python",
   "nbconvert_exporter": "python",
   "pygments_lexer": "ipython3",
   "version": "3.6.9"
  }
 },
 "nbformat": 4,
 "nbformat_minor": 4
}