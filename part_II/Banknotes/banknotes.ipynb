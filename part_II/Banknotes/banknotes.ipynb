{
 "cells": [
  {
   "cell_type": "markdown",
   "metadata": {},
   "source": [
    "# Counterfeit detection"
   ]
  },
  {
   "cell_type": "markdown",
   "metadata": {},
   "source": [
    "The task in this assignment is to detect the  counterfeit banknotes. The data set is based on [banknote authentication Data Set ](https://archive.ics.uci.edu/ml/datasets/banknote+authentication#) from UCI Machine Learning repository. The first three columns denote different parameters obtained from the photographs of the banknotes and last colum provides the label. Frankly as the dataset does not have any description I don't know  which labels corresponds to real and which to counterfeited banknotes. let's assume that label one (positive) denotes the clounterfeits. The set  \"banknote_authentication.csv\" can be found in the data  directory."
   ]
  },
  {
   "cell_type": "code",
   "execution_count": 3,
   "metadata": {},
   "outputs": [],
   "source": [
    "import pandas as pd\n",
    "import numpy as np\n",
    "import matplotlib.pyplot as plt\n",
    "import scipy.stats as st\n",
    "import scrapbook as sb"
   ]
  },
  {
   "cell_type": "code",
   "execution_count": 4,
   "metadata": {},
   "outputs": [
    {
     "data": {
      "application/scrapbook.scrap.json+json": {
       "data": [
        "Mariusz",
        "Kluza"
       ],
       "encoder": "json",
       "name": "person1",
       "version": 1
      }
     },
     "metadata": {
      "scrapbook": {
       "data": true,
       "display": false,
       "name": "person1"
      }
     },
     "output_type": "display_data"
    },
    {
     "data": {
      "text/plain": [
       "['Mariusz', 'Kluza']"
      ]
     },
     "metadata": {
      "scrapbook": {
       "data": false,
       "display": true,
       "name": "person1"
      }
     },
     "output_type": "display_data"
    },
    {
     "data": {
      "application/scrapbook.scrap.json+json": {
       "data": [
        "Mikołaj",
        "Migut"
       ],
       "encoder": "json",
       "name": "person2",
       "version": 1
      }
     },
     "metadata": {
      "scrapbook": {
       "data": true,
       "display": false,
       "name": "person2"
      }
     },
     "output_type": "display_data"
    },
    {
     "data": {
      "text/plain": [
       "['Mikołaj', 'Migut']"
      ]
     },
     "metadata": {
      "scrapbook": {
       "data": false,
       "display": true,
       "name": "person2"
      }
     },
     "output_type": "display_data"
    }
   ],
   "source": [
    "sb.glue('person1',['Mariusz', 'Kluza'], display=True)\n",
    "sb.glue('person2',['Mikołaj', 'Migut'], display=True)"
   ]
  },
  {
   "cell_type": "code",
   "execution_count": 5,
   "metadata": {},
   "outputs": [],
   "source": [
    "data = pd.read_csv('data/banknote_authentication.csv')"
   ]
  },
  {
   "cell_type": "code",
   "execution_count": 6,
   "metadata": {},
   "outputs": [
    {
     "data": {
      "text/html": [
       "<div>\n",
       "<style scoped>\n",
       "    .dataframe tbody tr th:only-of-type {\n",
       "        vertical-align: middle;\n",
       "    }\n",
       "\n",
       "    .dataframe tbody tr th {\n",
       "        vertical-align: top;\n",
       "    }\n",
       "\n",
       "    .dataframe thead th {\n",
       "        text-align: right;\n",
       "    }\n",
       "</style>\n",
       "<table border=\"1\" class=\"dataframe\">\n",
       "  <thead>\n",
       "    <tr style=\"text-align: right;\">\n",
       "      <th></th>\n",
       "      <th>a1</th>\n",
       "      <th>a2</th>\n",
       "      <th>a3</th>\n",
       "      <th>counterfeit</th>\n",
       "    </tr>\n",
       "  </thead>\n",
       "  <tbody>\n",
       "    <tr>\n",
       "      <th>0</th>\n",
       "      <td>12.3784</td>\n",
       "      <td>0.70403</td>\n",
       "      <td>-7.58360</td>\n",
       "      <td>0</td>\n",
       "    </tr>\n",
       "    <tr>\n",
       "      <th>1</th>\n",
       "      <td>8.1881</td>\n",
       "      <td>-3.13380</td>\n",
       "      <td>-2.52760</td>\n",
       "      <td>0</td>\n",
       "    </tr>\n",
       "    <tr>\n",
       "      <th>2</th>\n",
       "      <td>-10.8679</td>\n",
       "      <td>9.49260</td>\n",
       "      <td>-1.41160</td>\n",
       "      <td>1</td>\n",
       "    </tr>\n",
       "    <tr>\n",
       "      <th>3</th>\n",
       "      <td>-8.7903</td>\n",
       "      <td>7.97350</td>\n",
       "      <td>-0.45475</td>\n",
       "      <td>1</td>\n",
       "    </tr>\n",
       "    <tr>\n",
       "      <th>4</th>\n",
       "      <td>-5.5167</td>\n",
       "      <td>10.93900</td>\n",
       "      <td>-0.40820</td>\n",
       "      <td>1</td>\n",
       "    </tr>\n",
       "  </tbody>\n",
       "</table>\n",
       "</div>"
      ],
      "text/plain": [
       "        a1        a2       a3  counterfeit\n",
       "0  12.3784   0.70403 -7.58360            0\n",
       "1   8.1881  -3.13380 -2.52760            0\n",
       "2 -10.8679   9.49260 -1.41160            1\n",
       "3  -8.7903   7.97350 -0.45475            1\n",
       "4  -5.5167  10.93900 -0.40820            1"
      ]
     },
     "execution_count": 6,
     "metadata": {},
     "output_type": "execute_result"
    }
   ],
   "source": [
    "data.head()"
   ]
  },
  {
   "cell_type": "code",
   "execution_count": 7,
   "metadata": {},
   "outputs": [
    {
     "data": {
      "text/html": [
       "<div>\n",
       "<style scoped>\n",
       "    .dataframe tbody tr th:only-of-type {\n",
       "        vertical-align: middle;\n",
       "    }\n",
       "\n",
       "    .dataframe tbody tr th {\n",
       "        vertical-align: top;\n",
       "    }\n",
       "\n",
       "    .dataframe thead th {\n",
       "        text-align: right;\n",
       "    }\n",
       "</style>\n",
       "<table border=\"1\" class=\"dataframe\">\n",
       "  <thead>\n",
       "    <tr style=\"text-align: right;\">\n",
       "      <th></th>\n",
       "      <th>a1</th>\n",
       "      <th>a2</th>\n",
       "      <th>a3</th>\n",
       "      <th>counterfeit</th>\n",
       "    </tr>\n",
       "  </thead>\n",
       "  <tbody>\n",
       "    <tr>\n",
       "      <th>count</th>\n",
       "      <td>1097.000000</td>\n",
       "      <td>1097.000000</td>\n",
       "      <td>1097.000000</td>\n",
       "      <td>1097.000000</td>\n",
       "    </tr>\n",
       "    <tr>\n",
       "      <th>mean</th>\n",
       "      <td>1.805698</td>\n",
       "      <td>1.488454</td>\n",
       "      <td>-1.177636</td>\n",
       "      <td>0.444850</td>\n",
       "    </tr>\n",
       "    <tr>\n",
       "      <th>std</th>\n",
       "      <td>5.936574</td>\n",
       "      <td>4.403893</td>\n",
       "      <td>2.073943</td>\n",
       "      <td>0.497176</td>\n",
       "    </tr>\n",
       "    <tr>\n",
       "      <th>min</th>\n",
       "      <td>-13.773100</td>\n",
       "      <td>-5.286100</td>\n",
       "      <td>-7.871900</td>\n",
       "      <td>0.000000</td>\n",
       "    </tr>\n",
       "    <tr>\n",
       "      <th>25%</th>\n",
       "      <td>-2.090000</td>\n",
       "      <td>-1.628300</td>\n",
       "      <td>-2.342700</td>\n",
       "      <td>0.000000</td>\n",
       "    </tr>\n",
       "    <tr>\n",
       "      <th>50%</th>\n",
       "      <td>2.290700</td>\n",
       "      <td>0.614060</td>\n",
       "      <td>-0.591820</td>\n",
       "      <td>0.000000</td>\n",
       "    </tr>\n",
       "    <tr>\n",
       "      <th>75%</th>\n",
       "      <td>6.756200</td>\n",
       "      <td>3.395400</td>\n",
       "      <td>0.399980</td>\n",
       "      <td>1.000000</td>\n",
       "    </tr>\n",
       "    <tr>\n",
       "      <th>max</th>\n",
       "      <td>12.730200</td>\n",
       "      <td>17.927400</td>\n",
       "      <td>2.449500</td>\n",
       "      <td>1.000000</td>\n",
       "    </tr>\n",
       "  </tbody>\n",
       "</table>\n",
       "</div>"
      ],
      "text/plain": [
       "                a1           a2           a3  counterfeit\n",
       "count  1097.000000  1097.000000  1097.000000  1097.000000\n",
       "mean      1.805698     1.488454    -1.177636     0.444850\n",
       "std       5.936574     4.403893     2.073943     0.497176\n",
       "min     -13.773100    -5.286100    -7.871900     0.000000\n",
       "25%      -2.090000    -1.628300    -2.342700     0.000000\n",
       "50%       2.290700     0.614060    -0.591820     0.000000\n",
       "75%       6.756200     3.395400     0.399980     1.000000\n",
       "max      12.730200    17.927400     2.449500     1.000000"
      ]
     },
     "execution_count": 7,
     "metadata": {},
     "output_type": "execute_result"
    }
   ],
   "source": [
    "data.describe()"
   ]
  },
  {
   "cell_type": "code",
   "execution_count": 8,
   "metadata": {},
   "outputs": [
    {
     "name": "stdout",
     "output_type": "stream",
     "text": [
      "<class 'pandas.core.frame.DataFrame'>\n",
      "RangeIndex: 1097 entries, 0 to 1096\n",
      "Data columns (total 4 columns):\n",
      " #   Column       Non-Null Count  Dtype  \n",
      "---  ------       --------------  -----  \n",
      " 0   a1           1097 non-null   float64\n",
      " 1   a2           1097 non-null   float64\n",
      " 2   a3           1097 non-null   float64\n",
      " 3   counterfeit  1097 non-null   int64  \n",
      "dtypes: float64(3), int64(1)\n",
      "memory usage: 34.4 KB\n"
     ]
    }
   ],
   "source": [
    "data.info()"
   ]
  },
  {
   "cell_type": "markdown",
   "metadata": {},
   "source": [
    "## Problem "
   ]
  },
  {
   "cell_type": "markdown",
   "metadata": {},
   "source": [
    "### A."
   ]
  },
  {
   "cell_type": "markdown",
   "metadata": {},
   "source": [
    "Perform the Quadratic Discriminant Analysis on this set. Calculate the confusion matrix, AUC score and plot the ROC curve. Please use `scrapbook` to store your results. "
   ]
  },
  {
   "cell_type": "markdown",
   "metadata": {},
   "source": [
    "also please save the ROC plot"
   ]
  },
  {
   "cell_type": "code",
   "execution_count": 9,
   "metadata": {},
   "outputs": [],
   "source": [
    "from sklearn.model_selection import train_test_split\n",
    "seed = 2137\n",
    "data_train, data_test = train_test_split(data, test_size=0.2, stratify=data['counterfeit'], random_state=seed)"
   ]
  },
  {
   "cell_type": "code",
   "execution_count": 10,
   "metadata": {},
   "outputs": [
    {
     "data": {
      "text/plain": [
       "QuadraticDiscriminantAnalysis()"
      ]
     },
     "execution_count": 10,
     "metadata": {},
     "output_type": "execute_result"
    }
   ],
   "source": [
    "from sklearn.discriminant_analysis import QuadraticDiscriminantAnalysis\n",
    "qda = QuadraticDiscriminantAnalysis()\n",
    "\n",
    "qda.fit(data_train.loc[:,'a1' : 'a3'], data_train['counterfeit']) "
   ]
  },
  {
   "cell_type": "code",
   "execution_count": 11,
   "metadata": {},
   "outputs": [
    {
     "data": {
      "application/scrapbook.scrap.json+json": {
       "data": [
        0.8360655737704918,
        0.16393442622950818,
        0.23469387755102042,
        0.7653061224489796,
        0.7894736842105263,
        0.7772020725388602,
        0.8670960187353629
       ],
       "encoder": "json",
       "name": "B_scores",
       "version": 1
      }
     },
     "metadata": {
      "scrapbook": {
       "data": true,
       "display": false,
       "name": "B_scores"
      }
     },
     "output_type": "display_data"
    },
    {
     "data": {
      "text/plain": [
       "[0.8360655737704918,\n",
       " 0.16393442622950818,\n",
       " 0.23469387755102042,\n",
       " 0.7653061224489796,\n",
       " 0.7894736842105263,\n",
       " 0.7772020725388602,\n",
       " 0.8670960187353629]"
      ]
     },
     "metadata": {
      "scrapbook": {
       "data": false,
       "display": true,
       "name": "B_scores"
      }
     },
     "output_type": "display_data"
    }
   ],
   "source": [
    "from sklearn.metrics import roc_curve, roc_auc_score, confusion_matrix, f1_score, precision_score\n",
    "\n",
    "test_proba = qda.predict_proba(data_test.loc[:,'a1':'a3'])[:,1]\n",
    "fprs, tprs, thds = roc_curve(data_test['counterfeit'], test_proba)\n",
    "auc = roc_auc_score(data_test['counterfeit'], test_proba)\n",
    "tnr, fpr, fnr, tpr = confusion_matrix(data_test['counterfeit'], test_proba>0.5, normalize='true').ravel()\n",
    "f1_score_ = f1_score(data_test['counterfeit'], test_proba>0.5)\n",
    "precision = precision_score(data_test['counterfeit'], test_proba>0.5)\n",
    "sb.glue('B_scores',[tnr, fpr, fnr, tpr, precision, f1_score_, auc], display=True)"
   ]
  },
  {
   "cell_type": "code",
   "execution_count": 12,
   "metadata": {},
   "outputs": [
    {
     "data": {
      "image/png": "[encoded data removed]",
      "text/plain": [
       "<Figure size 576x576 with 1 Axes>"
      ]
     },
     "metadata": {
      "needs_background": "light"
     },
     "output_type": "display_data"
    }
   ],
   "source": [
    "from mchlearn.plotting import roc_plot, add_roc_curve\n",
    "\n",
    "fig, ax = roc_plot()\n",
    "add_roc_curve(data_test['counterfeit'], test_proba, name='qda', ax=ax)\n",
    "ax.legend()\n",
    "sb.glue('A_ROC',fig, \"display\", display=False)"
   ]
  },
  {
   "cell_type": "markdown",
   "metadata": {},
   "source": [
    "### B."
   ]
  },
  {
   "cell_type": "markdown",
   "metadata": {},
   "source": [
    "Perform Gaussian Mixture Discriminant Analysis on this set as described in the `gaussian_mixture_model_EM_algorithm` notebook. Use two components for positives and two components for negatives. Calculate the confusion matrix, AUC score and plot the ROC curve. "
   ]
  },
  {
   "cell_type": "markdown",
   "metadata": {},
   "source": [
    "also please save the ROC plot"
   ]
  },
  {
   "cell_type": "code",
   "execution_count": 13,
   "metadata": {},
   "outputs": [],
   "source": [
    "from sklearn.mixture import GaussianMixture\n",
    "\n",
    "real_train = data_train[data_train['counterfeit']==0]\n",
    "counterfeit_train = data_train[data_train['counterfeit']==1]"
   ]
  },
  {
   "cell_type": "code",
   "execution_count": 14,
   "metadata": {},
   "outputs": [],
   "source": [
    "def make_pdf(cmp):\n",
    "    n_cmp = cmp.n_components\n",
    "    dists = [st.multivariate_normal(cmp.means_[i], cmp.covariances_[i]) for i in range(n_cmp)]\n",
    "    def pdf(x):\n",
    "        p = 0.0\n",
    "        for i in range(n_cmp):\n",
    "            p+= cmp.weights_[i]*dists[i].pdf(x)\n",
    "        return p\n",
    "    return pdf"
   ]
  },
  {
   "cell_type": "code",
   "execution_count": 15,
   "metadata": {},
   "outputs": [],
   "source": [
    "def make_predict_proba(cmp0, cmp1, pi1=0.5):\n",
    "    pi0 = 1 - pi1\n",
    "    pdf0 = make_pdf(cmp0)\n",
    "    pdf1 = make_pdf(cmp1)\n",
    "    \n",
    "    def p(x):\n",
    "        p0 = pi0*pdf0(x)\n",
    "        p1 = pi1*pdf1(x)\n",
    "        return p1/(p1+p0)\n",
    "    return p"
   ]
  },
  {
   "cell_type": "code",
   "execution_count": 16,
   "metadata": {},
   "outputs": [],
   "source": [
    "gm0 = GaussianMixture(n_components=2)\n",
    "gm1 = GaussianMixture(n_components=2)"
   ]
  },
  {
   "cell_type": "code",
   "execution_count": 17,
   "metadata": {},
   "outputs": [
    {
     "data": {
      "text/plain": [
       "GaussianMixture(n_components=2)"
      ]
     },
     "execution_count": 17,
     "metadata": {},
     "output_type": "execute_result"
    }
   ],
   "source": [
    "gm0.fit(real_train.loc[:,'a1':'a3'])\n",
    "gm1.fit(counterfeit_train.loc[:,'a1':'a3'])"
   ]
  },
  {
   "cell_type": "code",
   "execution_count": 18,
   "metadata": {},
   "outputs": [
    {
     "data": {
      "application/scrapbook.scrap.json+json": {
       "data": [
        0.9672131147540983,
        0.03278688524590164,
        0.12244897959183673,
        0.8775510204081632,
        0.9555555555555556,
        0.9148936170212767,
        0.9667112746738039
       ],
       "encoder": "json",
       "name": "B_scores",
       "version": 1
      }
     },
     "metadata": {
      "scrapbook": {
       "data": true,
       "display": false,
       "name": "B_scores"
      }
     },
     "output_type": "display_data"
    },
    {
     "data": {
      "text/plain": [
       "[0.9672131147540983,\n",
       " 0.03278688524590164,\n",
       " 0.12244897959183673,\n",
       " 0.8775510204081632,\n",
       " 0.9555555555555556,\n",
       " 0.9148936170212767,\n",
       " 0.9667112746738039]"
      ]
     },
     "metadata": {
      "scrapbook": {
       "data": false,
       "display": true,
       "name": "B_scores"
      }
     },
     "output_type": "display_data"
    }
   ],
   "source": [
    "mgda = make_predict_proba(gm0, gm1, pi1=0.44)\n",
    "\n",
    "mgda_test_proba = mgda(data_test.loc[:,'a1':'a3'])\n",
    "mgda_fprs, mgda_tprs, mgda_thds = roc_curve(data_test['counterfeit'], mgda_test_proba)\n",
    "mgda_auc = roc_auc_score(data_test['counterfeit'], mgda_test_proba)\n",
    "mgda_tnr, mgda_fpr, mgda_fnr, mgda_tpr = confusion_matrix(data_test['counterfeit'], mgda_test_proba>0.5, normalize='true').ravel()\n",
    "mgda_f1_score = f1_score(data_test['counterfeit'], mgda_test_proba>0.5)\n",
    "mgda_precision = precision_score(data_test['counterfeit'], mgda_test_proba>0.5)\n",
    "sb.glue('B_scores',[mgda_tnr, mgda_fpr, mgda_fnr, mgda_tpr, mgda_precision, mgda_f1_score, mgda_auc], display=True)"
   ]
  },
  {
   "cell_type": "code",
   "execution_count": 19,
   "metadata": {},
   "outputs": [
    {
     "data": {
      "image/png": "[encoded data removed]",
      "text/plain": [
       "<Figure size 576x576 with 1 Axes>"
      ]
     },
     "metadata": {
      "needs_background": "light"
     },
     "output_type": "display_data"
    }
   ],
   "source": [
    "fig, ax = roc_plot()\n",
    "add_roc_curve(data_test['counterfeit'], test_proba, name='qda', ax=ax)\n",
    "add_roc_curve(data_test['counterfeit'], mgda_test_proba, name='mgda', ax=ax)\n",
    "ax.legend()\n",
    "sb.glue('B_ROC',fig, \"display\", display=False)"
   ]
  },
  {
   "cell_type": "markdown",
   "metadata": {},
   "source": [
    "### C."
   ]
  },
  {
   "cell_type": "markdown",
   "metadata": {},
   "source": [
    "Use k-fold cross validation to find the optimal number of gaussian components for each class. As before calculate the confusion matrix, AUC score and plot the ROC curve for the best classifier. "
   ]
  },
  {
   "cell_type": "markdown",
   "metadata": {},
   "source": [
    "__Hint__ use the `StratifiedKFold` function from scikit-learn library to generate folds. "
   ]
  },
  {
   "cell_type": "markdown",
   "metadata": {},
   "source": [
    "Store the results for the best estimator"
   ]
  },
  {
   "cell_type": "markdown",
   "metadata": {},
   "source": [
    "also please save the ROC plot"
   ]
  },
  {
   "cell_type": "code",
   "execution_count": 20,
   "metadata": {},
   "outputs": [],
   "source": [
    "def run(n_cmp0, n_cmp1, train, test, pi):\n",
    "    gm0 = GaussianMixture(n_components=n_cmp0)\n",
    "    gm1 = GaussianMixture(n_components=n_cmp1)\n",
    "    gm0.fit(train[train[:,-1]==0][:,:-1])\n",
    "    gm1.fit(train[train[:,-1]==1][:,:-1])\n",
    "    mga = make_predict_proba(gm0, gm1, pi1=pi)\n",
    "    proba_test = mga(test[:,:-1])\n",
    "    return f1_score(test[:,-1], proba_test>0.5)"
   ]
  },
  {
   "cell_type": "code",
   "execution_count": 21,
   "metadata": {},
   "outputs": [],
   "source": [
    "from sklearn.model_selection import StratifiedKFold\n",
    "\n",
    "skf = StratifiedKFold(n_splits=5, shuffle=True)\n",
    "n_range = (3, 40)\n",
    "nl = n_range[1]-n_range[0]\n",
    "mat = np.zeros( (nl, nl))\n",
    "\n",
    "for n0 in range(*n_range):\n",
    "    for n1 in range(*n_range):\n",
    "        f1 = 0.0\n",
    "        for train_index, test_index in skf.split(data_train.loc[:, 'a1':'a3'], data_train['counterfeit']):\n",
    "            f1 += run(n0, n1, data_train.values[train_index][:,1:], data_train.values[test_index][:,1:], 0.44)\n",
    "        mat[n0-n_range[0], n1-n_range[0]]=f1/5\n",
    "        "
   ]
  },
  {
   "cell_type": "code",
   "execution_count": 22,
   "metadata": {},
   "outputs": [
    {
     "data": {
      "text/html": [
       "<div>\n",
       "<style scoped>\n",
       "    .dataframe tbody tr th:only-of-type {\n",
       "        vertical-align: middle;\n",
       "    }\n",
       "\n",
       "    .dataframe tbody tr th {\n",
       "        vertical-align: top;\n",
       "    }\n",
       "\n",
       "    .dataframe thead th {\n",
       "        text-align: right;\n",
       "    }\n",
       "</style>\n",
       "<table border=\"1\" class=\"dataframe\">\n",
       "  <thead>\n",
       "    <tr style=\"text-align: right;\">\n",
       "      <th></th>\n",
       "      <th>3</th>\n",
       "      <th>4</th>\n",
       "      <th>5</th>\n",
       "      <th>6</th>\n",
       "      <th>7</th>\n",
       "      <th>8</th>\n",
       "      <th>9</th>\n",
       "      <th>10</th>\n",
       "      <th>11</th>\n",
       "      <th>12</th>\n",
       "      <th>...</th>\n",
       "      <th>30</th>\n",
       "      <th>31</th>\n",
       "      <th>32</th>\n",
       "      <th>33</th>\n",
       "      <th>34</th>\n",
       "      <th>35</th>\n",
       "      <th>36</th>\n",
       "      <th>37</th>\n",
       "      <th>38</th>\n",
       "      <th>39</th>\n",
       "    </tr>\n",
       "  </thead>\n",
       "  <tbody>\n",
       "    <tr>\n",
       "      <th>3</th>\n",
       "      <td>0.475826</td>\n",
       "      <td>0.470241</td>\n",
       "      <td>0.526637</td>\n",
       "      <td>0.522386</td>\n",
       "      <td>0.557278</td>\n",
       "      <td>0.535088</td>\n",
       "      <td>0.558466</td>\n",
       "      <td>0.576951</td>\n",
       "      <td>0.572325</td>\n",
       "      <td>0.602626</td>\n",
       "      <td>...</td>\n",
       "      <td>0.591632</td>\n",
       "      <td>0.595434</td>\n",
       "      <td>0.583972</td>\n",
       "      <td>0.565409</td>\n",
       "      <td>0.587860</td>\n",
       "      <td>0.573639</td>\n",
       "      <td>0.589395</td>\n",
       "      <td>0.581789</td>\n",
       "      <td>0.565762</td>\n",
       "      <td>0.572232</td>\n",
       "    </tr>\n",
       "    <tr>\n",
       "      <th>4</th>\n",
       "      <td>0.533327</td>\n",
       "      <td>0.539755</td>\n",
       "      <td>0.533112</td>\n",
       "      <td>0.548839</td>\n",
       "      <td>0.560768</td>\n",
       "      <td>0.599741</td>\n",
       "      <td>0.601607</td>\n",
       "      <td>0.600152</td>\n",
       "      <td>0.599428</td>\n",
       "      <td>0.614312</td>\n",
       "      <td>...</td>\n",
       "      <td>0.593063</td>\n",
       "      <td>0.598875</td>\n",
       "      <td>0.596717</td>\n",
       "      <td>0.576749</td>\n",
       "      <td>0.589147</td>\n",
       "      <td>0.595759</td>\n",
       "      <td>0.586970</td>\n",
       "      <td>0.605477</td>\n",
       "      <td>0.575063</td>\n",
       "      <td>0.601315</td>\n",
       "    </tr>\n",
       "    <tr>\n",
       "      <th>5</th>\n",
       "      <td>0.545869</td>\n",
       "      <td>0.534777</td>\n",
       "      <td>0.566080</td>\n",
       "      <td>0.549944</td>\n",
       "      <td>0.612057</td>\n",
       "      <td>0.604478</td>\n",
       "      <td>0.607346</td>\n",
       "      <td>0.632288</td>\n",
       "      <td>0.613410</td>\n",
       "      <td>0.616334</td>\n",
       "      <td>...</td>\n",
       "      <td>0.601348</td>\n",
       "      <td>0.612005</td>\n",
       "      <td>0.616599</td>\n",
       "      <td>0.604908</td>\n",
       "      <td>0.605417</td>\n",
       "      <td>0.615450</td>\n",
       "      <td>0.571459</td>\n",
       "      <td>0.598439</td>\n",
       "      <td>0.597141</td>\n",
       "      <td>0.618706</td>\n",
       "    </tr>\n",
       "    <tr>\n",
       "      <th>6</th>\n",
       "      <td>0.573751</td>\n",
       "      <td>0.563692</td>\n",
       "      <td>0.574659</td>\n",
       "      <td>0.596955</td>\n",
       "      <td>0.587414</td>\n",
       "      <td>0.614262</td>\n",
       "      <td>0.597717</td>\n",
       "      <td>0.592008</td>\n",
       "      <td>0.622568</td>\n",
       "      <td>0.634039</td>\n",
       "      <td>...</td>\n",
       "      <td>0.598866</td>\n",
       "      <td>0.644590</td>\n",
       "      <td>0.596479</td>\n",
       "      <td>0.582051</td>\n",
       "      <td>0.610950</td>\n",
       "      <td>0.611602</td>\n",
       "      <td>0.598058</td>\n",
       "      <td>0.582973</td>\n",
       "      <td>0.605370</td>\n",
       "      <td>0.591173</td>\n",
       "    </tr>\n",
       "    <tr>\n",
       "      <th>7</th>\n",
       "      <td>0.554137</td>\n",
       "      <td>0.590727</td>\n",
       "      <td>0.575444</td>\n",
       "      <td>0.601210</td>\n",
       "      <td>0.591010</td>\n",
       "      <td>0.582955</td>\n",
       "      <td>0.614879</td>\n",
       "      <td>0.633436</td>\n",
       "      <td>0.619045</td>\n",
       "      <td>0.630922</td>\n",
       "      <td>...</td>\n",
       "      <td>0.613513</td>\n",
       "      <td>0.631131</td>\n",
       "      <td>0.634001</td>\n",
       "      <td>0.617572</td>\n",
       "      <td>0.633754</td>\n",
       "      <td>0.596898</td>\n",
       "      <td>0.617609</td>\n",
       "      <td>0.625043</td>\n",
       "      <td>0.598121</td>\n",
       "      <td>0.599617</td>\n",
       "    </tr>\n",
       "    <tr>\n",
       "      <th>8</th>\n",
       "      <td>0.562171</td>\n",
       "      <td>0.560286</td>\n",
       "      <td>0.596834</td>\n",
       "      <td>0.613015</td>\n",
       "      <td>0.615203</td>\n",
       "      <td>0.587584</td>\n",
       "      <td>0.625351</td>\n",
       "      <td>0.616889</td>\n",
       "      <td>0.627146</td>\n",
       "      <td>0.628844</td>\n",
       "      <td>...</td>\n",
       "      <td>0.622714</td>\n",
       "      <td>0.606559</td>\n",
       "      <td>0.614687</td>\n",
       "      <td>0.609330</td>\n",
       "      <td>0.594028</td>\n",
       "      <td>0.607992</td>\n",
       "      <td>0.605891</td>\n",
       "      <td>0.602504</td>\n",
       "      <td>0.615728</td>\n",
       "      <td>0.596981</td>\n",
       "    </tr>\n",
       "    <tr>\n",
       "      <th>9</th>\n",
       "      <td>0.588311</td>\n",
       "      <td>0.603890</td>\n",
       "      <td>0.542490</td>\n",
       "      <td>0.598941</td>\n",
       "      <td>0.611056</td>\n",
       "      <td>0.606696</td>\n",
       "      <td>0.614127</td>\n",
       "      <td>0.621653</td>\n",
       "      <td>0.624010</td>\n",
       "      <td>0.610077</td>\n",
       "      <td>...</td>\n",
       "      <td>0.619164</td>\n",
       "      <td>0.611652</td>\n",
       "      <td>0.640900</td>\n",
       "      <td>0.618555</td>\n",
       "      <td>0.621806</td>\n",
       "      <td>0.606301</td>\n",
       "      <td>0.598258</td>\n",
       "      <td>0.617922</td>\n",
       "      <td>0.621782</td>\n",
       "      <td>0.609750</td>\n",
       "    </tr>\n",
       "    <tr>\n",
       "      <th>10</th>\n",
       "      <td>0.601149</td>\n",
       "      <td>0.601678</td>\n",
       "      <td>0.599241</td>\n",
       "      <td>0.588157</td>\n",
       "      <td>0.617402</td>\n",
       "      <td>0.615829</td>\n",
       "      <td>0.623269</td>\n",
       "      <td>0.625650</td>\n",
       "      <td>0.612057</td>\n",
       "      <td>0.611321</td>\n",
       "      <td>...</td>\n",
       "      <td>0.619809</td>\n",
       "      <td>0.613315</td>\n",
       "      <td>0.637260</td>\n",
       "      <td>0.619921</td>\n",
       "      <td>0.617538</td>\n",
       "      <td>0.592995</td>\n",
       "      <td>0.615733</td>\n",
       "      <td>0.624672</td>\n",
       "      <td>0.621847</td>\n",
       "      <td>0.603272</td>\n",
       "    </tr>\n",
       "    <tr>\n",
       "      <th>11</th>\n",
       "      <td>0.577110</td>\n",
       "      <td>0.582233</td>\n",
       "      <td>0.603406</td>\n",
       "      <td>0.587157</td>\n",
       "      <td>0.610497</td>\n",
       "      <td>0.605895</td>\n",
       "      <td>0.614732</td>\n",
       "      <td>0.644185</td>\n",
       "      <td>0.649135</td>\n",
       "      <td>0.623772</td>\n",
       "      <td>...</td>\n",
       "      <td>0.628022</td>\n",
       "      <td>0.606972</td>\n",
       "      <td>0.622172</td>\n",
       "      <td>0.631033</td>\n",
       "      <td>0.628272</td>\n",
       "      <td>0.622328</td>\n",
       "      <td>0.616019</td>\n",
       "      <td>0.601187</td>\n",
       "      <td>0.611298</td>\n",
       "      <td>0.628989</td>\n",
       "    </tr>\n",
       "    <tr>\n",
       "      <th>12</th>\n",
       "      <td>0.581477</td>\n",
       "      <td>0.611660</td>\n",
       "      <td>0.588666</td>\n",
       "      <td>0.623653</td>\n",
       "      <td>0.635291</td>\n",
       "      <td>0.609083</td>\n",
       "      <td>0.633458</td>\n",
       "      <td>0.631982</td>\n",
       "      <td>0.641043</td>\n",
       "      <td>0.612901</td>\n",
       "      <td>...</td>\n",
       "      <td>0.640290</td>\n",
       "      <td>0.629320</td>\n",
       "      <td>0.593569</td>\n",
       "      <td>0.617880</td>\n",
       "      <td>0.629642</td>\n",
       "      <td>0.640745</td>\n",
       "      <td>0.607439</td>\n",
       "      <td>0.638795</td>\n",
       "      <td>0.648577</td>\n",
       "      <td>0.630393</td>\n",
       "    </tr>\n",
       "    <tr>\n",
       "      <th>13</th>\n",
       "      <td>0.595025</td>\n",
       "      <td>0.601723</td>\n",
       "      <td>0.573869</td>\n",
       "      <td>0.625375</td>\n",
       "      <td>0.604625</td>\n",
       "      <td>0.617392</td>\n",
       "      <td>0.605049</td>\n",
       "      <td>0.627515</td>\n",
       "      <td>0.642453</td>\n",
       "      <td>0.619008</td>\n",
       "      <td>...</td>\n",
       "      <td>0.628210</td>\n",
       "      <td>0.632376</td>\n",
       "      <td>0.633688</td>\n",
       "      <td>0.632715</td>\n",
       "      <td>0.601227</td>\n",
       "      <td>0.629113</td>\n",
       "      <td>0.647729</td>\n",
       "      <td>0.636737</td>\n",
       "      <td>0.636527</td>\n",
       "      <td>0.641489</td>\n",
       "    </tr>\n",
       "    <tr>\n",
       "      <th>14</th>\n",
       "      <td>0.618819</td>\n",
       "      <td>0.612025</td>\n",
       "      <td>0.596499</td>\n",
       "      <td>0.629374</td>\n",
       "      <td>0.626698</td>\n",
       "      <td>0.630991</td>\n",
       "      <td>0.629596</td>\n",
       "      <td>0.628430</td>\n",
       "      <td>0.629144</td>\n",
       "      <td>0.632975</td>\n",
       "      <td>...</td>\n",
       "      <td>0.629550</td>\n",
       "      <td>0.618632</td>\n",
       "      <td>0.646263</td>\n",
       "      <td>0.642065</td>\n",
       "      <td>0.616492</td>\n",
       "      <td>0.641672</td>\n",
       "      <td>0.615774</td>\n",
       "      <td>0.636469</td>\n",
       "      <td>0.646794</td>\n",
       "      <td>0.603316</td>\n",
       "    </tr>\n",
       "    <tr>\n",
       "      <th>15</th>\n",
       "      <td>0.643181</td>\n",
       "      <td>0.597102</td>\n",
       "      <td>0.607742</td>\n",
       "      <td>0.618697</td>\n",
       "      <td>0.628345</td>\n",
       "      <td>0.630162</td>\n",
       "      <td>0.638264</td>\n",
       "      <td>0.630238</td>\n",
       "      <td>0.629289</td>\n",
       "      <td>0.595327</td>\n",
       "      <td>...</td>\n",
       "      <td>0.644524</td>\n",
       "      <td>0.623544</td>\n",
       "      <td>0.639650</td>\n",
       "      <td>0.616116</td>\n",
       "      <td>0.595921</td>\n",
       "      <td>0.606733</td>\n",
       "      <td>0.637583</td>\n",
       "      <td>0.641620</td>\n",
       "      <td>0.653857</td>\n",
       "      <td>0.629687</td>\n",
       "    </tr>\n",
       "    <tr>\n",
       "      <th>16</th>\n",
       "      <td>0.625489</td>\n",
       "      <td>0.627670</td>\n",
       "      <td>0.639802</td>\n",
       "      <td>0.634003</td>\n",
       "      <td>0.614035</td>\n",
       "      <td>0.628139</td>\n",
       "      <td>0.618857</td>\n",
       "      <td>0.623140</td>\n",
       "      <td>0.625037</td>\n",
       "      <td>0.612575</td>\n",
       "      <td>...</td>\n",
       "      <td>0.649734</td>\n",
       "      <td>0.650306</td>\n",
       "      <td>0.648703</td>\n",
       "      <td>0.639152</td>\n",
       "      <td>0.615949</td>\n",
       "      <td>0.621696</td>\n",
       "      <td>0.622644</td>\n",
       "      <td>0.667133</td>\n",
       "      <td>0.651624</td>\n",
       "      <td>0.607936</td>\n",
       "    </tr>\n",
       "    <tr>\n",
       "      <th>17</th>\n",
       "      <td>0.636074</td>\n",
       "      <td>0.619009</td>\n",
       "      <td>0.623528</td>\n",
       "      <td>0.645868</td>\n",
       "      <td>0.637772</td>\n",
       "      <td>0.663533</td>\n",
       "      <td>0.639196</td>\n",
       "      <td>0.644881</td>\n",
       "      <td>0.641867</td>\n",
       "      <td>0.633108</td>\n",
       "      <td>...</td>\n",
       "      <td>0.645710</td>\n",
       "      <td>0.656313</td>\n",
       "      <td>0.666190</td>\n",
       "      <td>0.624873</td>\n",
       "      <td>0.636194</td>\n",
       "      <td>0.621364</td>\n",
       "      <td>0.639346</td>\n",
       "      <td>0.662962</td>\n",
       "      <td>0.635083</td>\n",
       "      <td>0.630398</td>\n",
       "    </tr>\n",
       "    <tr>\n",
       "      <th>18</th>\n",
       "      <td>0.623882</td>\n",
       "      <td>0.631349</td>\n",
       "      <td>0.621009</td>\n",
       "      <td>0.647628</td>\n",
       "      <td>0.651094</td>\n",
       "      <td>0.645898</td>\n",
       "      <td>0.625184</td>\n",
       "      <td>0.643150</td>\n",
       "      <td>0.631135</td>\n",
       "      <td>0.659794</td>\n",
       "      <td>...</td>\n",
       "      <td>0.643185</td>\n",
       "      <td>0.637663</td>\n",
       "      <td>0.641990</td>\n",
       "      <td>0.633614</td>\n",
       "      <td>0.639935</td>\n",
       "      <td>0.659408</td>\n",
       "      <td>0.634309</td>\n",
       "      <td>0.643551</td>\n",
       "      <td>0.635642</td>\n",
       "      <td>0.631740</td>\n",
       "    </tr>\n",
       "    <tr>\n",
       "      <th>19</th>\n",
       "      <td>0.620654</td>\n",
       "      <td>0.642189</td>\n",
       "      <td>0.645854</td>\n",
       "      <td>0.635857</td>\n",
       "      <td>0.659431</td>\n",
       "      <td>0.641011</td>\n",
       "      <td>0.655085</td>\n",
       "      <td>0.641164</td>\n",
       "      <td>0.613327</td>\n",
       "      <td>0.628294</td>\n",
       "      <td>...</td>\n",
       "      <td>0.630936</td>\n",
       "      <td>0.634014</td>\n",
       "      <td>0.627826</td>\n",
       "      <td>0.612139</td>\n",
       "      <td>0.655479</td>\n",
       "      <td>0.645940</td>\n",
       "      <td>0.641202</td>\n",
       "      <td>0.668773</td>\n",
       "      <td>0.644933</td>\n",
       "      <td>0.656105</td>\n",
       "    </tr>\n",
       "    <tr>\n",
       "      <th>20</th>\n",
       "      <td>0.619404</td>\n",
       "      <td>0.633500</td>\n",
       "      <td>0.623610</td>\n",
       "      <td>0.632697</td>\n",
       "      <td>0.642005</td>\n",
       "      <td>0.631988</td>\n",
       "      <td>0.629611</td>\n",
       "      <td>0.630038</td>\n",
       "      <td>0.642953</td>\n",
       "      <td>0.638423</td>\n",
       "      <td>...</td>\n",
       "      <td>0.639377</td>\n",
       "      <td>0.628275</td>\n",
       "      <td>0.667919</td>\n",
       "      <td>0.664314</td>\n",
       "      <td>0.620450</td>\n",
       "      <td>0.622522</td>\n",
       "      <td>0.607376</td>\n",
       "      <td>0.635042</td>\n",
       "      <td>0.648746</td>\n",
       "      <td>0.631419</td>\n",
       "    </tr>\n",
       "    <tr>\n",
       "      <th>21</th>\n",
       "      <td>0.618025</td>\n",
       "      <td>0.659043</td>\n",
       "      <td>0.642093</td>\n",
       "      <td>0.640517</td>\n",
       "      <td>0.641610</td>\n",
       "      <td>0.656211</td>\n",
       "      <td>0.658070</td>\n",
       "      <td>0.657951</td>\n",
       "      <td>0.641424</td>\n",
       "      <td>0.631575</td>\n",
       "      <td>...</td>\n",
       "      <td>0.681540</td>\n",
       "      <td>0.658946</td>\n",
       "      <td>0.658529</td>\n",
       "      <td>0.648634</td>\n",
       "      <td>0.636343</td>\n",
       "      <td>0.628052</td>\n",
       "      <td>0.657663</td>\n",
       "      <td>0.636126</td>\n",
       "      <td>0.655530</td>\n",
       "      <td>0.669983</td>\n",
       "    </tr>\n",
       "    <tr>\n",
       "      <th>22</th>\n",
       "      <td>0.619685</td>\n",
       "      <td>0.624688</td>\n",
       "      <td>0.632644</td>\n",
       "      <td>0.640335</td>\n",
       "      <td>0.645453</td>\n",
       "      <td>0.634018</td>\n",
       "      <td>0.647633</td>\n",
       "      <td>0.677210</td>\n",
       "      <td>0.631006</td>\n",
       "      <td>0.631782</td>\n",
       "      <td>...</td>\n",
       "      <td>0.656494</td>\n",
       "      <td>0.650987</td>\n",
       "      <td>0.661991</td>\n",
       "      <td>0.635500</td>\n",
       "      <td>0.662939</td>\n",
       "      <td>0.667919</td>\n",
       "      <td>0.626678</td>\n",
       "      <td>0.646562</td>\n",
       "      <td>0.694350</td>\n",
       "      <td>0.652193</td>\n",
       "    </tr>\n",
       "    <tr>\n",
       "      <th>23</th>\n",
       "      <td>0.637294</td>\n",
       "      <td>0.659336</td>\n",
       "      <td>0.624655</td>\n",
       "      <td>0.631079</td>\n",
       "      <td>0.623535</td>\n",
       "      <td>0.612014</td>\n",
       "      <td>0.642430</td>\n",
       "      <td>0.638078</td>\n",
       "      <td>0.657201</td>\n",
       "      <td>0.658997</td>\n",
       "      <td>...</td>\n",
       "      <td>0.657514</td>\n",
       "      <td>0.650762</td>\n",
       "      <td>0.656845</td>\n",
       "      <td>0.674477</td>\n",
       "      <td>0.661015</td>\n",
       "      <td>0.660034</td>\n",
       "      <td>0.659240</td>\n",
       "      <td>0.637982</td>\n",
       "      <td>0.646304</td>\n",
       "      <td>0.650772</td>\n",
       "    </tr>\n",
       "    <tr>\n",
       "      <th>24</th>\n",
       "      <td>0.612364</td>\n",
       "      <td>0.625111</td>\n",
       "      <td>0.620773</td>\n",
       "      <td>0.648606</td>\n",
       "      <td>0.657340</td>\n",
       "      <td>0.652889</td>\n",
       "      <td>0.655742</td>\n",
       "      <td>0.658493</td>\n",
       "      <td>0.645483</td>\n",
       "      <td>0.641659</td>\n",
       "      <td>...</td>\n",
       "      <td>0.659607</td>\n",
       "      <td>0.668659</td>\n",
       "      <td>0.662912</td>\n",
       "      <td>0.623000</td>\n",
       "      <td>0.639682</td>\n",
       "      <td>0.648993</td>\n",
       "      <td>0.665045</td>\n",
       "      <td>0.642339</td>\n",
       "      <td>0.659834</td>\n",
       "      <td>0.658067</td>\n",
       "    </tr>\n",
       "    <tr>\n",
       "      <th>25</th>\n",
       "      <td>0.627571</td>\n",
       "      <td>0.650652</td>\n",
       "      <td>0.636671</td>\n",
       "      <td>0.652512</td>\n",
       "      <td>0.662595</td>\n",
       "      <td>0.648387</td>\n",
       "      <td>0.668135</td>\n",
       "      <td>0.655486</td>\n",
       "      <td>0.665047</td>\n",
       "      <td>0.646626</td>\n",
       "      <td>...</td>\n",
       "      <td>0.641873</td>\n",
       "      <td>0.680357</td>\n",
       "      <td>0.633029</td>\n",
       "      <td>0.642253</td>\n",
       "      <td>0.669634</td>\n",
       "      <td>0.651158</td>\n",
       "      <td>0.630897</td>\n",
       "      <td>0.660337</td>\n",
       "      <td>0.665057</td>\n",
       "      <td>0.653320</td>\n",
       "    </tr>\n",
       "    <tr>\n",
       "      <th>26</th>\n",
       "      <td>0.645342</td>\n",
       "      <td>0.630172</td>\n",
       "      <td>0.628678</td>\n",
       "      <td>0.630198</td>\n",
       "      <td>0.647367</td>\n",
       "      <td>0.660689</td>\n",
       "      <td>0.627886</td>\n",
       "      <td>0.671837</td>\n",
       "      <td>0.638108</td>\n",
       "      <td>0.642464</td>\n",
       "      <td>...</td>\n",
       "      <td>0.643104</td>\n",
       "      <td>0.677825</td>\n",
       "      <td>0.640632</td>\n",
       "      <td>0.641134</td>\n",
       "      <td>0.678218</td>\n",
       "      <td>0.660455</td>\n",
       "      <td>0.649761</td>\n",
       "      <td>0.656892</td>\n",
       "      <td>0.651911</td>\n",
       "      <td>0.648306</td>\n",
       "    </tr>\n",
       "    <tr>\n",
       "      <th>27</th>\n",
       "      <td>0.647733</td>\n",
       "      <td>0.639770</td>\n",
       "      <td>0.653881</td>\n",
       "      <td>0.656995</td>\n",
       "      <td>0.624377</td>\n",
       "      <td>0.663824</td>\n",
       "      <td>0.635591</td>\n",
       "      <td>0.667811</td>\n",
       "      <td>0.634490</td>\n",
       "      <td>0.642555</td>\n",
       "      <td>...</td>\n",
       "      <td>0.665751</td>\n",
       "      <td>0.661323</td>\n",
       "      <td>0.669103</td>\n",
       "      <td>0.657492</td>\n",
       "      <td>0.662740</td>\n",
       "      <td>0.650898</td>\n",
       "      <td>0.643880</td>\n",
       "      <td>0.661757</td>\n",
       "      <td>0.648522</td>\n",
       "      <td>0.660302</td>\n",
       "    </tr>\n",
       "    <tr>\n",
       "      <th>28</th>\n",
       "      <td>0.614938</td>\n",
       "      <td>0.654501</td>\n",
       "      <td>0.636512</td>\n",
       "      <td>0.625744</td>\n",
       "      <td>0.611356</td>\n",
       "      <td>0.655880</td>\n",
       "      <td>0.659284</td>\n",
       "      <td>0.654091</td>\n",
       "      <td>0.639180</td>\n",
       "      <td>0.666626</td>\n",
       "      <td>...</td>\n",
       "      <td>0.668327</td>\n",
       "      <td>0.664196</td>\n",
       "      <td>0.648193</td>\n",
       "      <td>0.660788</td>\n",
       "      <td>0.640126</td>\n",
       "      <td>0.677944</td>\n",
       "      <td>0.648459</td>\n",
       "      <td>0.667331</td>\n",
       "      <td>0.651017</td>\n",
       "      <td>0.631941</td>\n",
       "    </tr>\n",
       "    <tr>\n",
       "      <th>29</th>\n",
       "      <td>0.636474</td>\n",
       "      <td>0.637359</td>\n",
       "      <td>0.627318</td>\n",
       "      <td>0.644730</td>\n",
       "      <td>0.642816</td>\n",
       "      <td>0.652528</td>\n",
       "      <td>0.666985</td>\n",
       "      <td>0.651825</td>\n",
       "      <td>0.666401</td>\n",
       "      <td>0.640643</td>\n",
       "      <td>...</td>\n",
       "      <td>0.671068</td>\n",
       "      <td>0.651045</td>\n",
       "      <td>0.665850</td>\n",
       "      <td>0.661772</td>\n",
       "      <td>0.630889</td>\n",
       "      <td>0.653476</td>\n",
       "      <td>0.658007</td>\n",
       "      <td>0.655051</td>\n",
       "      <td>0.652996</td>\n",
       "      <td>0.648592</td>\n",
       "    </tr>\n",
       "    <tr>\n",
       "      <th>30</th>\n",
       "      <td>0.613186</td>\n",
       "      <td>0.622034</td>\n",
       "      <td>0.659882</td>\n",
       "      <td>0.641729</td>\n",
       "      <td>0.646739</td>\n",
       "      <td>0.648902</td>\n",
       "      <td>0.638796</td>\n",
       "      <td>0.682686</td>\n",
       "      <td>0.653362</td>\n",
       "      <td>0.666412</td>\n",
       "      <td>...</td>\n",
       "      <td>0.671075</td>\n",
       "      <td>0.673778</td>\n",
       "      <td>0.662475</td>\n",
       "      <td>0.666918</td>\n",
       "      <td>0.685700</td>\n",
       "      <td>0.642254</td>\n",
       "      <td>0.661658</td>\n",
       "      <td>0.666966</td>\n",
       "      <td>0.648800</td>\n",
       "      <td>0.660842</td>\n",
       "    </tr>\n",
       "    <tr>\n",
       "      <th>31</th>\n",
       "      <td>0.655733</td>\n",
       "      <td>0.644835</td>\n",
       "      <td>0.640846</td>\n",
       "      <td>0.640750</td>\n",
       "      <td>0.648394</td>\n",
       "      <td>0.657050</td>\n",
       "      <td>0.634144</td>\n",
       "      <td>0.653911</td>\n",
       "      <td>0.658630</td>\n",
       "      <td>0.680185</td>\n",
       "      <td>...</td>\n",
       "      <td>0.674782</td>\n",
       "      <td>0.662235</td>\n",
       "      <td>0.644955</td>\n",
       "      <td>0.644832</td>\n",
       "      <td>0.658865</td>\n",
       "      <td>0.690394</td>\n",
       "      <td>0.696635</td>\n",
       "      <td>0.651236</td>\n",
       "      <td>0.653062</td>\n",
       "      <td>0.637771</td>\n",
       "    </tr>\n",
       "    <tr>\n",
       "      <th>32</th>\n",
       "      <td>0.629068</td>\n",
       "      <td>0.634562</td>\n",
       "      <td>0.623426</td>\n",
       "      <td>0.645744</td>\n",
       "      <td>0.620175</td>\n",
       "      <td>0.636790</td>\n",
       "      <td>0.658226</td>\n",
       "      <td>0.652354</td>\n",
       "      <td>0.644766</td>\n",
       "      <td>0.684369</td>\n",
       "      <td>...</td>\n",
       "      <td>0.671824</td>\n",
       "      <td>0.659501</td>\n",
       "      <td>0.654224</td>\n",
       "      <td>0.672401</td>\n",
       "      <td>0.650666</td>\n",
       "      <td>0.668892</td>\n",
       "      <td>0.634266</td>\n",
       "      <td>0.671596</td>\n",
       "      <td>0.647602</td>\n",
       "      <td>0.647102</td>\n",
       "    </tr>\n",
       "    <tr>\n",
       "      <th>33</th>\n",
       "      <td>0.627035</td>\n",
       "      <td>0.636042</td>\n",
       "      <td>0.627389</td>\n",
       "      <td>0.646274</td>\n",
       "      <td>0.656471</td>\n",
       "      <td>0.664763</td>\n",
       "      <td>0.650711</td>\n",
       "      <td>0.618495</td>\n",
       "      <td>0.660107</td>\n",
       "      <td>0.650886</td>\n",
       "      <td>...</td>\n",
       "      <td>0.656374</td>\n",
       "      <td>0.666083</td>\n",
       "      <td>0.654704</td>\n",
       "      <td>0.654411</td>\n",
       "      <td>0.662262</td>\n",
       "      <td>0.639129</td>\n",
       "      <td>0.653037</td>\n",
       "      <td>0.648159</td>\n",
       "      <td>0.633984</td>\n",
       "      <td>0.657364</td>\n",
       "    </tr>\n",
       "    <tr>\n",
       "      <th>34</th>\n",
       "      <td>0.656931</td>\n",
       "      <td>0.637937</td>\n",
       "      <td>0.638580</td>\n",
       "      <td>0.651862</td>\n",
       "      <td>0.650080</td>\n",
       "      <td>0.658597</td>\n",
       "      <td>0.657361</td>\n",
       "      <td>0.655813</td>\n",
       "      <td>0.653431</td>\n",
       "      <td>0.666914</td>\n",
       "      <td>...</td>\n",
       "      <td>0.662809</td>\n",
       "      <td>0.668538</td>\n",
       "      <td>0.663633</td>\n",
       "      <td>0.667118</td>\n",
       "      <td>0.675121</td>\n",
       "      <td>0.683409</td>\n",
       "      <td>0.667528</td>\n",
       "      <td>0.665282</td>\n",
       "      <td>0.654461</td>\n",
       "      <td>0.659559</td>\n",
       "    </tr>\n",
       "    <tr>\n",
       "      <th>35</th>\n",
       "      <td>0.631738</td>\n",
       "      <td>0.638667</td>\n",
       "      <td>0.634912</td>\n",
       "      <td>0.653289</td>\n",
       "      <td>0.649477</td>\n",
       "      <td>0.649220</td>\n",
       "      <td>0.657374</td>\n",
       "      <td>0.637767</td>\n",
       "      <td>0.655166</td>\n",
       "      <td>0.666788</td>\n",
       "      <td>...</td>\n",
       "      <td>0.670641</td>\n",
       "      <td>0.653532</td>\n",
       "      <td>0.641271</td>\n",
       "      <td>0.647928</td>\n",
       "      <td>0.653383</td>\n",
       "      <td>0.676454</td>\n",
       "      <td>0.666269</td>\n",
       "      <td>0.683281</td>\n",
       "      <td>0.672936</td>\n",
       "      <td>0.655710</td>\n",
       "    </tr>\n",
       "    <tr>\n",
       "      <th>36</th>\n",
       "      <td>0.628652</td>\n",
       "      <td>0.650259</td>\n",
       "      <td>0.612965</td>\n",
       "      <td>0.626156</td>\n",
       "      <td>0.657608</td>\n",
       "      <td>0.648208</td>\n",
       "      <td>0.648742</td>\n",
       "      <td>0.664509</td>\n",
       "      <td>0.661132</td>\n",
       "      <td>0.659716</td>\n",
       "      <td>...</td>\n",
       "      <td>0.678518</td>\n",
       "      <td>0.683310</td>\n",
       "      <td>0.675785</td>\n",
       "      <td>0.659012</td>\n",
       "      <td>0.667320</td>\n",
       "      <td>0.663069</td>\n",
       "      <td>0.660423</td>\n",
       "      <td>0.644096</td>\n",
       "      <td>0.666289</td>\n",
       "      <td>0.669907</td>\n",
       "    </tr>\n",
       "    <tr>\n",
       "      <th>37</th>\n",
       "      <td>0.645946</td>\n",
       "      <td>0.638523</td>\n",
       "      <td>0.642131</td>\n",
       "      <td>0.672031</td>\n",
       "      <td>0.630522</td>\n",
       "      <td>0.619149</td>\n",
       "      <td>0.669504</td>\n",
       "      <td>0.644529</td>\n",
       "      <td>0.648049</td>\n",
       "      <td>0.649250</td>\n",
       "      <td>...</td>\n",
       "      <td>0.631185</td>\n",
       "      <td>0.666004</td>\n",
       "      <td>0.650994</td>\n",
       "      <td>0.645588</td>\n",
       "      <td>0.644604</td>\n",
       "      <td>0.683199</td>\n",
       "      <td>0.666864</td>\n",
       "      <td>0.650905</td>\n",
       "      <td>0.666532</td>\n",
       "      <td>0.680881</td>\n",
       "    </tr>\n",
       "    <tr>\n",
       "      <th>38</th>\n",
       "      <td>0.637619</td>\n",
       "      <td>0.641688</td>\n",
       "      <td>0.635565</td>\n",
       "      <td>0.650740</td>\n",
       "      <td>0.644633</td>\n",
       "      <td>0.653211</td>\n",
       "      <td>0.652132</td>\n",
       "      <td>0.660377</td>\n",
       "      <td>0.668860</td>\n",
       "      <td>0.645389</td>\n",
       "      <td>...</td>\n",
       "      <td>0.657734</td>\n",
       "      <td>0.690947</td>\n",
       "      <td>0.673629</td>\n",
       "      <td>0.655721</td>\n",
       "      <td>0.647953</td>\n",
       "      <td>0.671293</td>\n",
       "      <td>0.666175</td>\n",
       "      <td>0.673352</td>\n",
       "      <td>0.628361</td>\n",
       "      <td>0.665053</td>\n",
       "    </tr>\n",
       "    <tr>\n",
       "      <th>39</th>\n",
       "      <td>0.645485</td>\n",
       "      <td>0.640491</td>\n",
       "      <td>0.652816</td>\n",
       "      <td>0.623218</td>\n",
       "      <td>0.648308</td>\n",
       "      <td>0.658650</td>\n",
       "      <td>0.655711</td>\n",
       "      <td>0.683738</td>\n",
       "      <td>0.636464</td>\n",
       "      <td>0.640144</td>\n",
       "      <td>...</td>\n",
       "      <td>0.668066</td>\n",
       "      <td>0.686698</td>\n",
       "      <td>0.670936</td>\n",
       "      <td>0.667426</td>\n",
       "      <td>0.649961</td>\n",
       "      <td>0.657294</td>\n",
       "      <td>0.668280</td>\n",
       "      <td>0.649369</td>\n",
       "      <td>0.679222</td>\n",
       "      <td>0.660983</td>\n",
       "    </tr>\n",
       "  </tbody>\n",
       "</table>\n",
       "<p>37 rows × 37 columns</p>\n",
       "</div>"
      ],
      "text/plain": [
       "          3         4         5         6         7         8         9   \\\n",
       "3   0.475826  0.470241  0.526637  0.522386  0.557278  0.535088  0.558466   \n",
       "4   0.533327  0.539755  0.533112  0.548839  0.560768  0.599741  0.601607   \n",
       "5   0.545869  0.534777  0.566080  0.549944  0.612057  0.604478  0.607346   \n",
       "6   0.573751  0.563692  0.574659  0.596955  0.587414  0.614262  0.597717   \n",
       "7   0.554137  0.590727  0.575444  0.601210  0.591010  0.582955  0.614879   \n",
       "8   0.562171  0.560286  0.596834  0.613015  0.615203  0.587584  0.625351   \n",
       "9   0.588311  0.603890  0.542490  0.598941  0.611056  0.606696  0.614127   \n",
       "10  0.601149  0.601678  0.599241  0.588157  0.617402  0.615829  0.623269   \n",
       "11  0.577110  0.582233  0.603406  0.587157  0.610497  0.605895  0.614732   \n",
       "12  0.581477  0.611660  0.588666  0.623653  0.635291  0.609083  0.633458   \n",
       "13  0.595025  0.601723  0.573869  0.625375  0.604625  0.617392  0.605049   \n",
       "14  0.618819  0.612025  0.596499  0.629374  0.626698  0.630991  0.629596   \n",
       "15  0.643181  0.597102  0.607742  0.618697  0.628345  0.630162  0.638264   \n",
       "16  0.625489  0.627670  0.639802  0.634003  0.614035  0.628139  0.618857   \n",
       "17  0.636074  0.619009  0.623528  0.645868  0.637772  0.663533  0.639196   \n",
       "18  0.623882  0.631349  0.621009  0.647628  0.651094  0.645898  0.625184   \n",
       "19  0.620654  0.642189  0.645854  0.635857  0.659431  0.641011  0.655085   \n",
       "20  0.619404  0.633500  0.623610  0.632697  0.642005  0.631988  0.629611   \n",
       "21  0.618025  0.659043  0.642093  0.640517  0.641610  0.656211  0.658070   \n",
       "22  0.619685  0.624688  0.632644  0.640335  0.645453  0.634018  0.647633   \n",
       "23  0.637294  0.659336  0.624655  0.631079  0.623535  0.612014  0.642430   \n",
       "24  0.612364  0.625111  0.620773  0.648606  0.657340  0.652889  0.655742   \n",
       "25  0.627571  0.650652  0.636671  0.652512  0.662595  0.648387  0.668135   \n",
       "26  0.645342  0.630172  0.628678  0.630198  0.647367  0.660689  0.627886   \n",
       "27  0.647733  0.639770  0.653881  0.656995  0.624377  0.663824  0.635591   \n",
       "28  0.614938  0.654501  0.636512  0.625744  0.611356  0.655880  0.659284   \n",
       "29  0.636474  0.637359  0.627318  0.644730  0.642816  0.652528  0.666985   \n",
       "30  0.613186  0.622034  0.659882  0.641729  0.646739  0.648902  0.638796   \n",
       "31  0.655733  0.644835  0.640846  0.640750  0.648394  0.657050  0.634144   \n",
       "32  0.629068  0.634562  0.623426  0.645744  0.620175  0.636790  0.658226   \n",
       "33  0.627035  0.636042  0.627389  0.646274  0.656471  0.664763  0.650711   \n",
       "34  0.656931  0.637937  0.638580  0.651862  0.650080  0.658597  0.657361   \n",
       "35  0.631738  0.638667  0.634912  0.653289  0.649477  0.649220  0.657374   \n",
       "36  0.628652  0.650259  0.612965  0.626156  0.657608  0.648208  0.648742   \n",
       "37  0.645946  0.638523  0.642131  0.672031  0.630522  0.619149  0.669504   \n",
       "38  0.637619  0.641688  0.635565  0.650740  0.644633  0.653211  0.652132   \n",
       "39  0.645485  0.640491  0.652816  0.623218  0.648308  0.658650  0.655711   \n",
       "\n",
       "          10        11        12  ...        30        31        32        33  \\\n",
       "3   0.576951  0.572325  0.602626  ...  0.591632  0.595434  0.583972  0.565409   \n",
       "4   0.600152  0.599428  0.614312  ...  0.593063  0.598875  0.596717  0.576749   \n",
       "5   0.632288  0.613410  0.616334  ...  0.601348  0.612005  0.616599  0.604908   \n",
       "6   0.592008  0.622568  0.634039  ...  0.598866  0.644590  0.596479  0.582051   \n",
       "7   0.633436  0.619045  0.630922  ...  0.613513  0.631131  0.634001  0.617572   \n",
       "8   0.616889  0.627146  0.628844  ...  0.622714  0.606559  0.614687  0.609330   \n",
       "9   0.621653  0.624010  0.610077  ...  0.619164  0.611652  0.640900  0.618555   \n",
       "10  0.625650  0.612057  0.611321  ...  0.619809  0.613315  0.637260  0.619921   \n",
       "11  0.644185  0.649135  0.623772  ...  0.628022  0.606972  0.622172  0.631033   \n",
       "12  0.631982  0.641043  0.612901  ...  0.640290  0.629320  0.593569  0.617880   \n",
       "13  0.627515  0.642453  0.619008  ...  0.628210  0.632376  0.633688  0.632715   \n",
       "14  0.628430  0.629144  0.632975  ...  0.629550  0.618632  0.646263  0.642065   \n",
       "15  0.630238  0.629289  0.595327  ...  0.644524  0.623544  0.639650  0.616116   \n",
       "16  0.623140  0.625037  0.612575  ...  0.649734  0.650306  0.648703  0.639152   \n",
       "17  0.644881  0.641867  0.633108  ...  0.645710  0.656313  0.666190  0.624873   \n",
       "18  0.643150  0.631135  0.659794  ...  0.643185  0.637663  0.641990  0.633614   \n",
       "19  0.641164  0.613327  0.628294  ...  0.630936  0.634014  0.627826  0.612139   \n",
       "20  0.630038  0.642953  0.638423  ...  0.639377  0.628275  0.667919  0.664314   \n",
       "21  0.657951  0.641424  0.631575  ...  0.681540  0.658946  0.658529  0.648634   \n",
       "22  0.677210  0.631006  0.631782  ...  0.656494  0.650987  0.661991  0.635500   \n",
       "23  0.638078  0.657201  0.658997  ...  0.657514  0.650762  0.656845  0.674477   \n",
       "24  0.658493  0.645483  0.641659  ...  0.659607  0.668659  0.662912  0.623000   \n",
       "25  0.655486  0.665047  0.646626  ...  0.641873  0.680357  0.633029  0.642253   \n",
       "26  0.671837  0.638108  0.642464  ...  0.643104  0.677825  0.640632  0.641134   \n",
       "27  0.667811  0.634490  0.642555  ...  0.665751  0.661323  0.669103  0.657492   \n",
       "28  0.654091  0.639180  0.666626  ...  0.668327  0.664196  0.648193  0.660788   \n",
       "29  0.651825  0.666401  0.640643  ...  0.671068  0.651045  0.665850  0.661772   \n",
       "30  0.682686  0.653362  0.666412  ...  0.671075  0.673778  0.662475  0.666918   \n",
       "31  0.653911  0.658630  0.680185  ...  0.674782  0.662235  0.644955  0.644832   \n",
       "32  0.652354  0.644766  0.684369  ...  0.671824  0.659501  0.654224  0.672401   \n",
       "33  0.618495  0.660107  0.650886  ...  0.656374  0.666083  0.654704  0.654411   \n",
       "34  0.655813  0.653431  0.666914  ...  0.662809  0.668538  0.663633  0.667118   \n",
       "35  0.637767  0.655166  0.666788  ...  0.670641  0.653532  0.641271  0.647928   \n",
       "36  0.664509  0.661132  0.659716  ...  0.678518  0.683310  0.675785  0.659012   \n",
       "37  0.644529  0.648049  0.649250  ...  0.631185  0.666004  0.650994  0.645588   \n",
       "38  0.660377  0.668860  0.645389  ...  0.657734  0.690947  0.673629  0.655721   \n",
       "39  0.683738  0.636464  0.640144  ...  0.668066  0.686698  0.670936  0.667426   \n",
       "\n",
       "          34        35        36        37        38        39  \n",
       "3   0.587860  0.573639  0.589395  0.581789  0.565762  0.572232  \n",
       "4   0.589147  0.595759  0.586970  0.605477  0.575063  0.601315  \n",
       "5   0.605417  0.615450  0.571459  0.598439  0.597141  0.618706  \n",
       "6   0.610950  0.611602  0.598058  0.582973  0.605370  0.591173  \n",
       "7   0.633754  0.596898  0.617609  0.625043  0.598121  0.599617  \n",
       "8   0.594028  0.607992  0.605891  0.602504  0.615728  0.596981  \n",
       "9   0.621806  0.606301  0.598258  0.617922  0.621782  0.609750  \n",
       "10  0.617538  0.592995  0.615733  0.624672  0.621847  0.603272  \n",
       "11  0.628272  0.622328  0.616019  0.601187  0.611298  0.628989  \n",
       "12  0.629642  0.640745  0.607439  0.638795  0.648577  0.630393  \n",
       "13  0.601227  0.629113  0.647729  0.636737  0.636527  0.641489  \n",
       "14  0.616492  0.641672  0.615774  0.636469  0.646794  0.603316  \n",
       "15  0.595921  0.606733  0.637583  0.641620  0.653857  0.629687  \n",
       "16  0.615949  0.621696  0.622644  0.667133  0.651624  0.607936  \n",
       "17  0.636194  0.621364  0.639346  0.662962  0.635083  0.630398  \n",
       "18  0.639935  0.659408  0.634309  0.643551  0.635642  0.631740  \n",
       "19  0.655479  0.645940  0.641202  0.668773  0.644933  0.656105  \n",
       "20  0.620450  0.622522  0.607376  0.635042  0.648746  0.631419  \n",
       "21  0.636343  0.628052  0.657663  0.636126  0.655530  0.669983  \n",
       "22  0.662939  0.667919  0.626678  0.646562  0.694350  0.652193  \n",
       "23  0.661015  0.660034  0.659240  0.637982  0.646304  0.650772  \n",
       "24  0.639682  0.648993  0.665045  0.642339  0.659834  0.658067  \n",
       "25  0.669634  0.651158  0.630897  0.660337  0.665057  0.653320  \n",
       "26  0.678218  0.660455  0.649761  0.656892  0.651911  0.648306  \n",
       "27  0.662740  0.650898  0.643880  0.661757  0.648522  0.660302  \n",
       "28  0.640126  0.677944  0.648459  0.667331  0.651017  0.631941  \n",
       "29  0.630889  0.653476  0.658007  0.655051  0.652996  0.648592  \n",
       "30  0.685700  0.642254  0.661658  0.666966  0.648800  0.660842  \n",
       "31  0.658865  0.690394  0.696635  0.651236  0.653062  0.637771  \n",
       "32  0.650666  0.668892  0.634266  0.671596  0.647602  0.647102  \n",
       "33  0.662262  0.639129  0.653037  0.648159  0.633984  0.657364  \n",
       "34  0.675121  0.683409  0.667528  0.665282  0.654461  0.659559  \n",
       "35  0.653383  0.676454  0.666269  0.683281  0.672936  0.655710  \n",
       "36  0.667320  0.663069  0.660423  0.644096  0.666289  0.669907  \n",
       "37  0.644604  0.683199  0.666864  0.650905  0.666532  0.680881  \n",
       "38  0.647953  0.671293  0.666175  0.673352  0.628361  0.665053  \n",
       "39  0.649961  0.657294  0.668280  0.649369  0.679222  0.660983  \n",
       "\n",
       "[37 rows x 37 columns]"
      ]
     },
     "execution_count": 22,
     "metadata": {},
     "output_type": "execute_result"
    }
   ],
   "source": [
    "pd.DataFrame(mat, index = range(*n_range), columns=range(*n_range))"
   ]
  },
  {
   "cell_type": "code",
   "execution_count": 23,
   "metadata": {},
   "outputs": [
    {
     "name": "stdout",
     "output_type": "stream",
     "text": [
      "[31 36]\n"
     ]
    }
   ],
   "source": [
    "opt_n_cmp= np.asarray(np.unravel_index(np.argmax(mat), mat.shape))+(n_range[0], n_range[0])\n",
    "print(opt_n_cmp)"
   ]
  },
  {
   "cell_type": "code",
   "execution_count": 24,
   "metadata": {},
   "outputs": [
    {
     "data": {
      "text/plain": [
       "GaussianMixture(n_components=36)"
      ]
     },
     "execution_count": 24,
     "metadata": {},
     "output_type": "execute_result"
    }
   ],
   "source": [
    "gm0_opt = GaussianMixture(n_components=opt_n_cmp[0])\n",
    "gm1_opt = GaussianMixture(n_components=opt_n_cmp[1])\n",
    "\n",
    "gm0_opt.fit(real_train.loc[:, 'a1':'a3'])\n",
    "gm1_opt.fit(counterfeit_train.loc[:, 'a1':'a3'])"
   ]
  },
  {
   "cell_type": "code",
   "execution_count": 25,
   "metadata": {},
   "outputs": [
    {
     "data": {
      "application/scrapbook.scrap.json+json": {
       "data": [
        0.9590163934426229,
        0.040983606557377046,
        0.02040816326530612,
        0.9795918367346939,
        0.9504950495049505,
        0.964824120603015,
        0.9923887587822015
       ],
       "encoder": "json",
       "name": "C_scores",
       "version": 1
      }
     },
     "metadata": {
      "scrapbook": {
       "data": true,
       "display": false,
       "name": "C_scores"
      }
     },
     "output_type": "display_data"
    },
    {
     "data": {
      "text/plain": [
       "[0.9590163934426229,\n",
       " 0.040983606557377046,\n",
       " 0.02040816326530612,\n",
       " 0.9795918367346939,\n",
       " 0.9504950495049505,\n",
       " 0.964824120603015,\n",
       " 0.9923887587822015]"
      ]
     },
     "metadata": {
      "scrapbook": {
       "data": false,
       "display": true,
       "name": "C_scores"
      }
     },
     "output_type": "display_data"
    }
   ],
   "source": [
    "mgda_opt = make_predict_proba(gm0_opt, gm1_opt, pi1=0.44)\n",
    "\n",
    "mgda_opt_test_proba = mgda_opt(data_test.loc[:,'a1':'a3'])\n",
    "mgda_opt_fprs, mgda_opt_tprs, mgda_opt_thds = roc_curve(data_test['counterfeit'], mgda_opt_test_proba)\n",
    "mgda_opt_auc = roc_auc_score(data_test['counterfeit'], mgda_opt_test_proba)\n",
    "mgda_opt_tnr, mgda_opt_fpr, mgda_opt_fnr, mgda_opt_tpr = confusion_matrix(data_test['counterfeit'], mgda_opt_test_proba>0.5, normalize='true').ravel()\n",
    "mgda_opt_f1_score = f1_score(data_test['counterfeit'], mgda_opt_test_proba>0.5)\n",
    "mgda_opt_precision = precision_score(data_test['counterfeit'], mgda_opt_test_proba>0.5)\n",
    "sb.glue('C_scores',[mgda_opt_tnr, mgda_opt_fpr, mgda_opt_fnr, mgda_opt_tpr, mgda_opt_precision, mgda_opt_f1_score, mgda_opt_auc], display=True)"
   ]
  },
  {
   "cell_type": "code",
   "execution_count": 26,
   "metadata": {},
   "outputs": [
    {
     "data": {
      "image/png": "[encoded data removed]",
      "text/plain": [
       "<Figure size 576x576 with 1 Axes>"
      ]
     },
     "metadata": {
      "needs_background": "light"
     },
     "output_type": "display_data"
    }
   ],
   "source": [
    "fig, ax = roc_plot()\n",
    "add_roc_curve(data_test['counterfeit'], test_proba, name='qda', ax=ax)\n",
    "add_roc_curve(data_test['counterfeit'], mgda_test_proba, name='mgda', ax=ax)\n",
    "add_roc_curve(data_test['counterfeit'], mgda_opt_test_proba, name='mgda_opt', ax=ax)\n",
    "ax.legend()\n",
    "sb.glue('C_ROC',fig, \"display\", display=False)"
   ]
  },
  {
   "cell_type": "markdown",
   "metadata": {},
   "source": [
    "## D.  "
   ]
  },
  {
   "cell_type": "markdown",
   "metadata": {},
   "source": [
    "Assume that 1% of all the customers in your store presents a counterfeit 100PLN bill. If you accept the counterfeit bill you loose 100PLN. If you reject a valid bill,  you may loose the purchase, you estimate this loss as 15PLN on average. For each of the three classifiers find the threshold that minimises your losses and calculates the minimum loss for each classifier. Show the optimal classifiers points on the ROC curves."
   ]
  },
  {
   "cell_type": "code",
   "execution_count": 32,
   "metadata": {},
   "outputs": [],
   "source": [
    "def calculate_score(fpr, fnr):\n",
    "    return fnr * 0.01 * 100 + fpr * 0.99 * 15\n",
    "\n",
    "\n",
    "def calculate_optimal(fprs,tprs,thds):\n",
    "    min_loss = 1\n",
    "    index = 0\n",
    "    for i, _ in enumerate(thds):\n",
    "            s=calculate_score(fprs[i], 1-tprs[i])\n",
    "            if (s<min_loss):\n",
    "                min_loss=s\n",
    "                index=i\n",
    "    tnr = 1 - fprs[index]\n",
    "    fpr = fprs[index]\n",
    "    fnr = 1 - tprs[index]\n",
    "    tpr = tprs[index]\n",
    "    thres = thds[index]\n",
    "    prec = precision_score(data_test['counterfeit'], test_proba>thres)\n",
    "    f1 = f1_score(data_test['counterfeit'], test_proba>thres)\n",
    "    auc = roc_auc_score(data_test['counterfeit'], test_proba)\n",
    "    return tnr, fpr, fnr, tpr, prec, f1, auc, min_loss, thres"
   ]
  },
  {
   "cell_type": "code",
   "execution_count": 33,
   "metadata": {},
   "outputs": [
    {
     "data": {
      "application/scrapbook.scrap.json+json": {
       "data": [
        1,
        0,
        0.8877551020408163,
        0.11224489795918367,
        1,
        0.1851851851851852,
        0.8670960187353629,
        0.8877551020408164,
        0.9809469445554184
       ],
       "encoder": "json",
       "name": "D_A_scores",
       "version": 1
      }
     },
     "metadata": {
      "scrapbook": {
       "data": true,
       "display": false,
       "name": "D_A_scores"
      }
     },
     "output_type": "display_data"
    },
    {
     "data": {
      "text/plain": [
       "[1.0,\n",
       " 0.0,\n",
       " 0.8877551020408163,\n",
       " 0.11224489795918367,\n",
       " 1.0,\n",
       " 0.1851851851851852,\n",
       " 0.8670960187353629,\n",
       " 0.8877551020408164,\n",
       " 0.9809469445554184]"
      ]
     },
     "metadata": {
      "scrapbook": {
       "data": false,
       "display": true,
       "name": "D_A_scores"
      }
     },
     "output_type": "display_data"
    }
   ],
   "source": [
    "tnr, fpr, fnr, tpr, precision, f1, auc, min_loss, threshold = calculate_optimal(fprs,tprs,thds)\n",
    "sb.glue('D_A_scores',[tnr, fpr, fnr, tpr, precision, f1, auc, min_loss, threshold], display=True)"
   ]
  },
  {
   "cell_type": "code",
   "execution_count": 34,
   "metadata": {},
   "outputs": [
    {
     "data": {
      "application/scrapbook.scrap.json+json": {
       "data": [
        1,
        0,
        0.2142857142857143,
        0.7857142857142857,
        0.8059701492537313,
        0.6545454545454544,
        0.8670960187353629,
        0.2142857142857143,
        0.7460115659394015
       ],
       "encoder": "json",
       "name": "D_B_scores",
       "version": 1
      }
     },
     "metadata": {
      "scrapbook": {
       "data": true,
       "display": false,
       "name": "D_B_scores"
      }
     },
     "output_type": "display_data"
    },
    {
     "data": {
      "text/plain": [
       "[1.0,\n",
       " 0.0,\n",
       " 0.2142857142857143,\n",
       " 0.7857142857142857,\n",
       " 0.8059701492537313,\n",
       " 0.6545454545454544,\n",
       " 0.8670960187353629,\n",
       " 0.2142857142857143,\n",
       " 0.7460115659394015]"
      ]
     },
     "metadata": {
      "scrapbook": {
       "data": false,
       "display": true,
       "name": "D_B_scores"
      }
     },
     "output_type": "display_data"
    }
   ],
   "source": [
    "mgda_tnr, mgda_fpr, mgda_fnr, mgda_tpr, mgda_precision, mgda_f1, mgda_auc, mgda_min_loss, mgda_threshold = calculate_optimal(mgda_fprs,mgda_tprs,mgda_thds)\n",
    "sb.glue('D_B_scores',[mgda_tnr, mgda_fpr, mgda_fnr, mgda_tpr, mgda_precision, mgda_f1, mgda_auc, mgda_min_loss, mgda_threshold], display=True)"
   ]
  },
  {
   "cell_type": "code",
   "execution_count": 35,
   "metadata": {},
   "outputs": [
    {
     "data": {
      "application/scrapbook.scrap.json+json": {
       "data": [
        0.9836065573770492,
        0.01639344262295082,
        0.10204081632653061,
        0.8979591836734694,
        1,
        0.13333333333333333,
        0.8670960187353629,
        0.3454834392773503,
        0.9960733144744679
       ],
       "encoder": "json",
       "name": "D_C_scores",
       "version": 1
      }
     },
     "metadata": {
      "scrapbook": {
       "data": true,
       "display": false,
       "name": "D_C_scores"
      }
     },
     "output_type": "display_data"
    },
    {
     "data": {
      "text/plain": [
       "[0.9836065573770492,\n",
       " 0.01639344262295082,\n",
       " 0.10204081632653061,\n",
       " 0.8979591836734694,\n",
       " 1.0,\n",
       " 0.13333333333333333,\n",
       " 0.8670960187353629,\n",
       " 0.3454834392773503,\n",
       " 0.9960733144744679]"
      ]
     },
     "metadata": {
      "scrapbook": {
       "data": false,
       "display": true,
       "name": "D_C_scores"
      }
     },
     "output_type": "display_data"
    }
   ],
   "source": [
    "mgda_opt_tnr, mgda_opt_fpr, mgda_opt_fnr, mgda_opt_tpr, mgda_opt_precision, mgda_opt_f1, mgda_opt_auc, mgda_opt_min_loss, mgda_opt_threshold = calculate_optimal(mgda_opt_fprs,mgda_opt_tprs,mgda_opt_thds)\n",
    "sb.glue('D_C_scores',[mgda_opt_tnr, mgda_opt_fpr, mgda_opt_fnr, mgda_opt_tpr, mgda_opt_precision, mgda_opt_f1, mgda_opt_auc, mgda_opt_min_loss, mgda_opt_threshold], display=True)"
   ]
  },
  {
   "cell_type": "code",
   "execution_count": 37,
   "metadata": {},
   "outputs": [
    {
     "data": {
      "image/png": "[encoded data removed]",
      "text/plain": [
       "<Figure size 432x288 with 1 Axes>"
      ]
     },
     "metadata": {
      "needs_background": "light"
     },
     "output_type": "display_data"
    }
   ],
   "source": [
    "fig, ax = plt.subplots()\n",
    "ax.set_aspect(1)\n",
    "ax.plot([0, 1], [0, 1], linewidth=1, linestyle='--', color='grey')\n",
    "ax.plot(fprs, tprs, label=\"qda\")\n",
    "ax.scatter([fpr],[tpr], s = 30)\n",
    "ax.plot(mgda_fprs, mgda_tprs, label=\"mgda\")\n",
    "ax.scatter([mgda_fpr],[mgda_tpr], s = 30)\n",
    "ax.plot(mgda_opt_fprs, mgda_opt_tprs, label=\"mgda_opt\")\n",
    "ax.scatter([mgda_opt_fpr],[mgda_opt_tpr], s = 30)\n",
    "\n",
    "ax.legend(title='AUC')\n",
    "sb.glue('D_ROC',fig, \"display\", display=False)"
   ]
  },
  {
   "cell_type": "code",
   "execution_count": null,
   "metadata": {},
   "outputs": [],
   "source": []
  }
 ],
 "metadata": {
  "kernelspec": {
   "display_name": "Python 3",
   "language": "python",
   "name": "python3"
  },
  "language_info": {
   "codemirror_mode": {
    "name": "ipython",
    "version": 3
   },
   "file_extension": ".py",
   "mimetype": "text/x-python",
   "name": "python",
   "nbconvert_exporter": "python",
   "pygments_lexer": "ipython3",
   "version": "3.6.9"
  }
 },
 "nbformat": 4,
 "nbformat_minor": 4
}