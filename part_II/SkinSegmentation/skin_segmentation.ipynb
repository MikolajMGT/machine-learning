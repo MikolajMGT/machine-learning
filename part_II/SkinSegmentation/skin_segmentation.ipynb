{
 "cells": [
  {
   "cell_type": "markdown",
   "id": "soviet-electric",
   "metadata": {},
   "source": [
    "# Skin segmentation "
   ]
  },
  {
   "cell_type": "markdown",
   "id": "touched-outside",
   "metadata": {},
   "source": [
    "In this assignement you will train classifier to assign colors to skin or no skin classes. The data is taken from [Skin Segmentation Data Set](http://archive.ics.uci.edu/ml/datasets/Skin+Segmentation#) in the UCI Machine Learning repository."
   ]
  },
  {
   "cell_type": "markdown",
   "id": "general-kingdom",
   "metadata": {},
   "source": [
    "The  data is in a plain text format and contains four columns. First three contain RGB color data  represented as integers in the range 0-255, and the last column is an integer label  with 1 representing skin and 2 representing no skin. This file we can load directly into a numpy array:"
   ]
  },
  {
   "cell_type": "markdown",
   "id": "threaded-easter",
   "metadata": {},
   "source": [
    "You have to install the [scrapbook](https://github.com/nteract/scrapbook) module before using this notebook.  This will help me to automatically scan notebooks  using [papermill](https://github.com/nteract/papermill) module :) "
   ]
  },
  {
   "cell_type": "code",
   "execution_count": 32,
   "id": "falling-contractor",
   "metadata": {},
   "outputs": [],
   "source": [
    "import numpy as np\n",
    "import scrapbook as sb\n",
    "import matplotlib.pyplot as plt"
   ]
  },
  {
   "cell_type": "markdown",
   "id": "spoken-combining",
   "metadata": {},
   "source": [
    "Please fill your firstname and name in the cell below."
   ]
  },
  {
   "cell_type": "code",
   "execution_count": 33,
   "id": "chicken-fancy",
   "metadata": {},
   "outputs": [
    {
     "data": {
      "application/scrapbook.scrap.json+json": {
       "data": [
        "Mariusz",
        "Kluza"
       ],
       "encoder": "json",
       "name": "person1",
       "version": 1
      }
     },
     "metadata": {
      "scrapbook": {
       "data": true,
       "display": false,
       "name": "person1"
      }
     },
     "output_type": "display_data"
    },
    {
     "data": {
      "text/plain": [
       "['Mariusz', 'Kluza']"
      ]
     },
     "metadata": {
      "scrapbook": {
       "data": false,
       "display": true,
       "name": "person1"
      }
     },
     "output_type": "display_data"
    },
    {
     "data": {
      "application/scrapbook.scrap.json+json": {
       "data": [
        "Mikołaj",
        "Migut"
       ],
       "encoder": "json",
       "name": "person2",
       "version": 1
      }
     },
     "metadata": {
      "scrapbook": {
       "data": true,
       "display": false,
       "name": "person2"
      }
     },
     "output_type": "display_data"
    },
    {
     "data": {
      "text/plain": [
       "['Mikołaj', 'Migut']"
      ]
     },
     "metadata": {
      "scrapbook": {
       "data": false,
       "display": true,
       "name": "person2"
      }
     },
     "output_type": "display_data"
    }
   ],
   "source": [
    "sb.glue('person1',['Mariusz', 'Kluza'], display=True)\n",
    "sb.glue('person2',['Mikołaj', 'Migut'], display=True)"
   ]
  },
  {
   "cell_type": "code",
   "execution_count": 34,
   "id": "sought-hacker",
   "metadata": {},
   "outputs": [],
   "source": [
    "data = np.loadtxt('data/Skin_NonSkin.txt')"
   ]
  },
  {
   "cell_type": "code",
   "execution_count": 35,
   "id": "upset-deputy",
   "metadata": {},
   "outputs": [],
   "source": [
    "rgb  = data[:,:3]\n",
    "lbl = data[:,3].astype('int32') # some function expect labels to be integers"
   ]
  },
  {
   "cell_type": "markdown",
   "id": "unable-fossil",
   "metadata": {},
   "source": [
    "We see that the classes are not balanced:"
   ]
  },
  {
   "cell_type": "code",
   "execution_count": 36,
   "id": "invisible-quarterly",
   "metadata": {},
   "outputs": [
    {
     "data": {
      "text/plain": [
       "array([     0,  50859, 194198])"
      ]
     },
     "execution_count": 36,
     "metadata": {},
     "output_type": "execute_result"
    }
   ],
   "source": [
    "np.bincount(lbl)"
   ]
  },
  {
   "cell_type": "markdown",
   "id": "designed-skill",
   "metadata": {},
   "source": [
    "## Problem 1 "
   ]
  },
  {
   "cell_type": "markdown",
   "id": "needed-russian",
   "metadata": {},
   "source": [
    "Compare the performance of the QuadraticDiscriminantAnalysis, LinearDiscriminativeAnalysis and NaiveBayes classifiers on this set. Use the `sklearn` library when needed. Compare the confusion matrices (tnr,  fnr,fpr,tpr), precision and f1_ score and auc_score, as well ROC curves. Prepare a summary table with all the numerical scores one row per classifier and one column per metric (use pandas.DataFame). Plot all  ROC curves on the same plot and label them accordingly. Assume that skin is positive and non-skin negative. "
   ]
  },
  {
   "cell_type": "code",
   "execution_count": 37,
   "id": "considered-sunset",
   "metadata": {},
   "outputs": [],
   "source": [
    "from sklearn.model_selection import train_test_split\n",
    "from sklearn.metrics import roc_auc_score, roc_curve, f1_score, confusion_matrix, precision_score \n",
    "from sklearn.discriminant_analysis import QuadraticDiscriminantAnalysis, LinearDiscriminantAnalysis\n",
    "from sklearn.naive_bayes import GaussianNB"
   ]
  },
  {
   "cell_type": "code",
   "execution_count": 38,
   "id": "efficient-above",
   "metadata": {},
   "outputs": [],
   "source": [
    "import pandas as pd\n",
    "def analize(cls, name, train_X, train_Y, test_X, test_Y):\n",
    "    cls.fit(train_X, train_Y)\n",
    "    \n",
    "    pred_test_data = cls.predict(test_X)\n",
    "    probs_test_data = cls.predict_proba(test_X)[:,1]\n",
    "    \n",
    "    tnr, fpr, fnr, tpr = confusion_matrix(test_Y, pred_test_data, normalize='true').ravel()\n",
    "    precision = precision_score(test_Y, pred_test_data)\n",
    "    f1 = f1_score(test_Y, pred_test_data)\n",
    "    auc = roc_auc_score(test_Y, probs_test_data)\n",
    "    fprs, tprs, thds =  roc_curve(test_Y, probs_test_data)\n",
    "    \n",
    "    return  pd.DataFrame({'tnr':[0],\n",
    "                          'fpr':[0],\n",
    "                          'fnr':[0],\n",
    "                          'tpr':[0],\n",
    "                          'precision' : [0],\n",
    "                          'f1' :[0],\n",
    "                          'auc' :[0]\n",
    "                           }, index=[name]), fprs, tprs, thds"
   ]
  },
  {
   "cell_type": "code",
   "execution_count": null,
   "id": "civilian-forum",
   "metadata": {},
   "outputs": [],
   "source": []
  },
  {
   "cell_type": "code",
   "execution_count": 39,
   "id": "sapphire-picking",
   "metadata": {},
   "outputs": [
    {
     "data": {
      "text/plain": [
       "0.20753947040892526"
      ]
     },
     "execution_count": 39,
     "metadata": {},
     "output_type": "execute_result"
    }
   ],
   "source": [
    "lbl = 2 - lbl\n",
    "lbl.sum() / len(lbl)"
   ]
  },
  {
   "cell_type": "code",
   "execution_count": 40,
   "id": "distant-cleanup",
   "metadata": {},
   "outputs": [],
   "source": [
    "qda = QuadraticDiscriminantAnalysis()\n",
    "lda = LinearDiscriminantAnalysis()\n",
    "nb = GaussianNB()"
   ]
  },
  {
   "cell_type": "code",
   "execution_count": 41,
   "id": "excess-julian",
   "metadata": {},
   "outputs": [],
   "source": [
    "seed = 1234\n",
    "rgb_train, rgb_test, lbl_train, lbl_test = train_test_split(rgb, lbl, test_size = 0.33, random_state = seed)"
   ]
  },
  {
   "cell_type": "code",
   "execution_count": 42,
   "id": "adjustable-iraqi",
   "metadata": {},
   "outputs": [],
   "source": [
    "frames = []\n",
    "rocs = []\n",
    "for name, cls in [('qda', qda), ('lda', lda), ('nb', nb)]:\n",
    "    df, fprs, tprs, thds = analize(cls, name, rgb_train, lbl_train==1, rgb_test, lbl_test==1)\n",
    "    frames.append(df)\n",
    "    rocs.append((fprs, tprs, thds))"
   ]
  },
  {
   "cell_type": "markdown",
   "id": "typical-european",
   "metadata": {},
   "source": [
    "For each classifier use the scrapbook to save results. For each string subsitute the corresponding value."
   ]
  },
  {
   "cell_type": "code",
   "execution_count": 43,
   "id": "executed-thanks",
   "metadata": {},
   "outputs": [
    {
     "data": {
      "application/scrapbook.scrap.json+json": {
       "data": [
        "tnr",
        "fpr",
        "fnr",
        "tpr",
        "precision",
        "f1",
        "auc"
       ],
       "encoder": "json",
       "name": "qda",
       "version": 1
      }
     },
     "metadata": {
      "scrapbook": {
       "data": true,
       "display": false,
       "name": "qda"
      }
     },
     "output_type": "display_data"
    },
    {
     "data": {
      "text/plain": [
       "['tnr', 'fpr', 'fnr', 'tpr', 'precision', 'f1', 'auc']"
      ]
     },
     "metadata": {
      "scrapbook": {
       "data": false,
       "display": true,
       "name": "qda"
      }
     },
     "output_type": "display_data"
    }
   ],
   "source": [
    "sb.glue('qda',['tnr', 'fpr', 'fnr', 'tpr', 'precision', 'f1', 'auc'], display=True)"
   ]
  },
  {
   "cell_type": "code",
   "execution_count": 44,
   "id": "massive-carter",
   "metadata": {},
   "outputs": [
    {
     "data": {
      "application/scrapbook.scrap.json+json": {
       "data": [
        "tnr",
        "fpr",
        "fnr",
        "tpr",
        "precision",
        "f1",
        "auc"
       ],
       "encoder": "json",
       "name": "lda",
       "version": 1
      }
     },
     "metadata": {
      "scrapbook": {
       "data": true,
       "display": false,
       "name": "lda"
      }
     },
     "output_type": "display_data"
    },
    {
     "data": {
      "text/plain": [
       "['tnr', 'fpr', 'fnr', 'tpr', 'precision', 'f1', 'auc']"
      ]
     },
     "metadata": {
      "scrapbook": {
       "data": false,
       "display": true,
       "name": "lda"
      }
     },
     "output_type": "display_data"
    }
   ],
   "source": [
    "sb.glue('lda',['tnr', 'fpr', 'fnr', 'tpr', 'precision', 'f1', 'auc'], display=True)"
   ]
  },
  {
   "cell_type": "code",
   "execution_count": 45,
   "id": "noticed-pricing",
   "metadata": {},
   "outputs": [
    {
     "data": {
      "application/scrapbook.scrap.json+json": {
       "data": [
        "tnr",
        "fpr",
        "fnr",
        "tpr",
        "precision",
        "f1",
        "auc"
       ],
       "encoder": "json",
       "name": "nb",
       "version": 1
      }
     },
     "metadata": {
      "scrapbook": {
       "data": true,
       "display": false,
       "name": "nb"
      }
     },
     "output_type": "display_data"
    },
    {
     "data": {
      "text/plain": [
       "['tnr', 'fpr', 'fnr', 'tpr', 'precision', 'f1', 'auc']"
      ]
     },
     "metadata": {
      "scrapbook": {
       "data": false,
       "display": true,
       "name": "nb"
      }
     },
     "output_type": "display_data"
    }
   ],
   "source": [
    "sb.glue('nb',['tnr', 'fpr', 'fnr', 'tpr', 'precision', 'f1', 'auc'], display=True)"
   ]
  },
  {
   "cell_type": "markdown",
   "id": "selective-miracle",
   "metadata": {},
   "source": [
    "also please save the ROC plot"
   ]
  },
  {
   "cell_type": "code",
   "execution_count": 46,
   "id": "stopped-degree",
   "metadata": {},
   "outputs": [
    {
     "data": {
      "text/plain": [
       "<matplotlib.legend.Legend at 0x7fc070c374a8>"
      ]
     },
     "execution_count": 46,
     "metadata": {},
     "output_type": "execute_result"
    },
    {
     "data": {
      "image/png": "[encoded data removed]",
      "text/plain": [
       "<Figure size 432x288 with 1 Axes>"
      ]
     },
     "metadata": {
      "needs_background": "light"
     },
     "output_type": "display_data"
    }
   ],
   "source": [
    "fig, ax = plt.subplots()\n",
    "\n",
    "for i, name in enumerate(['qda', 'lda', 'nb']):\n",
    "    ax.plot(*rocs[i][:2], label=name)\n",
    "ax.legend()\n"
   ]
  },
  {
   "cell_type": "markdown",
   "id": "durable-apollo",
   "metadata": {},
   "source": [
    "## Problem 2"
   ]
  },
  {
   "cell_type": "markdown",
   "id": "surgical-childhood",
   "metadata": {},
   "source": [
    "Repeat same analysis but with RGB  data converted to Hue  Saturation Value (HSV) format. You can use the `colorsys` module for conversion. Use the scrapbook again for saving your results appending \"\\_hsv\" to variable name e.g."
   ]
  },
  {
   "cell_type": "code",
   "execution_count": 48,
   "id": "tracked-jonathan",
   "metadata": {},
   "outputs": [
    {
     "data": {
      "application/scrapbook.scrap.json+json": {
       "data": [
        "tnr",
        "fpr",
        "fnr",
        "tpr",
        "precision",
        "f1",
        "auc"
       ],
       "encoder": "json",
       "name": "qda_hsv",
       "version": 1
      }
     },
     "metadata": {
      "scrapbook": {
       "data": true,
       "display": false,
       "name": "qda_hsv"
      }
     },
     "output_type": "display_data"
    },
    {
     "data": {
      "text/plain": [
       "['tnr', 'fpr', 'fnr', 'tpr', 'precision', 'f1', 'auc']"
      ]
     },
     "metadata": {
      "scrapbook": {
       "data": false,
       "display": true,
       "name": "qda_hsv"
      }
     },
     "output_type": "display_data"
    }
   ],
   "source": [
    "sb.glue('qda_hsv',['tnr', 'fpr', 'fnr', 'tpr', 'precision', 'f1', 'auc'], display=True)"
   ]
  },
  {
   "cell_type": "code",
   "execution_count": 49,
   "id": "abstract-belgium",
   "metadata": {},
   "outputs": [],
   "source": [
    "from colorsys import rgb_to_hsv\n",
    "hsv = np.asarray([rgb_to_hsv(*row) for row in rgb])"
   ]
  },
  {
   "cell_type": "code",
   "execution_count": 50,
   "id": "vietnamese-discovery",
   "metadata": {},
   "outputs": [
    {
     "data": {
      "text/plain": [
       "array([[6.29251701e-01, 3.98373984e-01, 1.23000000e+02],\n",
       "       [6.29251701e-01, 4.01639344e-01, 1.22000000e+02],\n",
       "       [6.29251701e-01, 4.04958678e-01, 1.21000000e+02],\n",
       "       ...,\n",
       "       [1.63398693e-01, 3.12883436e-01, 1.63000000e+02],\n",
       "       [1.63398693e-01, 3.12883436e-01, 1.63000000e+02],\n",
       "       [0.00000000e+00, 0.00000000e+00, 2.55000000e+02]])"
      ]
     },
     "execution_count": 50,
     "metadata": {},
     "output_type": "execute_result"
    }
   ],
   "source": [
    "hsv"
   ]
  },
  {
   "cell_type": "code",
   "execution_count": 51,
   "id": "english-hawaii",
   "metadata": {},
   "outputs": [],
   "source": [
    "qda = QuadraticDiscriminantAnalysis()\n",
    "lda = LinearDiscriminantAnalysis()\n",
    "nb = GaussianNB()"
   ]
  },
  {
   "cell_type": "code",
   "execution_count": 52,
   "id": "promotional-nursery",
   "metadata": {},
   "outputs": [],
   "source": [
    "hsv_train, hsv_test, lbl_train, lbl_test = train_test_split(hsv, lbl, test_size = 0.25, random_state = seed)"
   ]
  },
  {
   "cell_type": "code",
   "execution_count": 53,
   "id": "provincial-demonstration",
   "metadata": {},
   "outputs": [],
   "source": [
    "frames = []\n",
    "rocs = []\n",
    "for name, cls in [('qda', qda), ('lda', lda), ('nb', nb)]:\n",
    "    df, fprs, tprs, thds = analize(cls, name, hsv_train, lbl_train==1, hsv_test, lbl_test==1)\n",
    "    frames.append(df)\n",
    "    rocs.append((fprs, tprs, thds))"
   ]
  },
  {
   "cell_type": "code",
   "execution_count": 54,
   "id": "exempt-discount",
   "metadata": {},
   "outputs": [
    {
     "data": {
      "text/plain": [
       "<matplotlib.legend.Legend at 0x7fc072193780>"
      ]
     },
     "execution_count": 54,
     "metadata": {},
     "output_type": "execute_result"
    },
    {
     "data": {
      "image/png": "[encoded data removed]",
      "text/plain": [
       "<Figure size 432x288 with 1 Axes>"
      ]
     },
     "metadata": {
      "needs_background": "light"
     },
     "output_type": "display_data"
    }
   ],
   "source": [
    "fig, ax = plt.subplots()\n",
    "for i, name in enumerate(['qda', 'lda', 'nb']):\n",
    "    ax.plot(*rocs[i][:2], label = name)\n",
    "ax.legend()\n"
   ]
  },
  {
   "cell_type": "code",
   "execution_count": null,
   "id": "previous-attitude",
   "metadata": {},
   "outputs": [],
   "source": []
  }
 ],
 "metadata": {
  "jupytext": {
   "text_representation": {
    "extension": ".Rmd",
    "format_name": "rmarkdown",
    "format_version": "1.2",
    "jupytext_version": "1.11.1"
   }
  },
  "kernelspec": {
   "display_name": "Python 3",
   "language": "python",
   "name": "python3"
  },
  "language_info": {
   "codemirror_mode": {
    "name": "ipython",
    "version": 3
   },
   "file_extension": ".py",
   "mimetype": "text/x-python",
   "name": "python",
   "nbconvert_exporter": "python",
   "pygments_lexer": "ipython3",
   "version": "3.6.9"
  }
 },
 "nbformat": 4,
 "nbformat_minor": 5
}